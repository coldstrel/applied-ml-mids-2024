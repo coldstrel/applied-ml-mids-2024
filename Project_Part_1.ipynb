{
  "cells": [
    {
      "cell_type": "markdown",
      "metadata": {
        "id": "y6XZ55wHbdm5"
      },
      "source": [
        "# Part 1 of the Machine Learning Project\n",
        "\n",
        "## Preliminaries\n",
        "\n",
        "\n",
        "Before satring familiarize yourself with pandas reading the “10 minutes to pandas” tutorial: https://pandas.pydata.org/pandas-docs/stable/user_guide/10min.html\n",
        "\n",
        "Browse through the full pandas user guide when needed: https://pandas.pydata.org/pandas-docs/stable/user_guide/index.html\n",
        "\n",
        "\n",
        "## Load libraries"
      ]
    },
    {
      "cell_type": "markdown",
      "metadata": {
        "id": "94VoIo4Gwhnc"
      },
      "source": [
        "Test on Markdown"
      ]
    },
    {
      "cell_type": "code",
      "execution_count": 1,
      "metadata": {
        "id": "L8jsxX6eaxL_"
      },
      "outputs": [],
      "source": [
        "# numpy and pandas for data manipulation\n",
        "import numpy as np\n",
        "import pandas as pd\n",
        "\n",
        "# File system manangement\n",
        "import os\n",
        "\n",
        "# Suppress warnings\n",
        "#import warnings\n",
        "#warnings.filterwarnings('ignore')\n",
        "\n",
        "# matplotlib and seaborn for plotting\n",
        "import matplotlib.pyplot as plt\n",
        "import seaborn as sns\n"
      ]
    },
    {
      "cell_type": "markdown",
      "metadata": {
        "id": "ctTp1HonbYpj"
      },
      "source": [
        "<p><img alt=\"Datasets\" src=\"https://storage.googleapis.com/kaggle-media/competitions/home-credit/home_credit.png\" align=\"left\" hspace=\"10px\" vspace=\"0px\"></p>\n",
        "\n",
        "\n",
        "<h1>Datasets</h1>"
      ]
    },
    {
      "cell_type": "code",
      "source": [
        "from google.colab import drive\n",
        "drive.mount('/content/drive')"
      ],
      "metadata": {
        "colab": {
          "base_uri": "https://localhost:8080/"
        },
        "id": "dQVEExt5zBTK",
        "outputId": "413a70d4-c628-4a01-d313-7d681e68a35e"
      },
      "execution_count": 2,
      "outputs": [
        {
          "output_type": "stream",
          "name": "stdout",
          "text": [
            "Mounted at /content/drive\n"
          ]
        }
      ]
    },
    {
      "cell_type": "code",
      "execution_count": 3,
      "metadata": {
        "id": "TAo_jy0PhBEY"
      },
      "outputs": [],
      "source": [
        "## Change this part with your own dataset files\n",
        "previous_application = 'drive/MyDrive/Advanced_Machine_Learning/previous_application.csv'\n",
        "src_bureau = 'drive/MyDrive/Advanced_Machine_Learning/bureau.csv'\n",
        "src_bureau_balance = 'drive/MyDrive/Advanced_Machine_Learning/bureau_balance.csv'\n",
        "src_train = 'drive/MyDrive/Advanced_Machine_Learning/application_train.csv'\n",
        "src_test = 'drive/MyDrive/Advanced_Machine_Learning/application_test.csv'\n",
        "\n",
        "\n",
        "# If you cannot load the directly the csv from Google drive (Google restrictions), download them manually then change the path to load them locally\n",
        "\n"
      ]
    },
    {
      "cell_type": "markdown",
      "metadata": {
        "id": "uPBTWB1ViFHe"
      },
      "source": [
        "<h1>Loading the datasets (2 pts)</h1>\n",
        "\n",
        "1. Similarly to the train set, load the test set, the bureau dataset and the past applications dataset.\n",
        "\n",
        "2. Display for each the number of rows and the number of columns\n",
        "\n",
        "*You will be evaluated as follow*\n",
        "* 1: Correct approach + code: 1pt\n",
        "* 2: Code: 1pts\n"
      ]
    },
    {
      "cell_type": "code",
      "execution_count": 4,
      "metadata": {
        "id": "GjoGTJvLiBPP",
        "colab": {
          "base_uri": "https://localhost:8080/"
        },
        "outputId": "937361a9-ab86-47a2-a378-40e332e8378f"
      },
      "outputs": [
        {
          "output_type": "stream",
          "name": "stdout",
          "text": [
            "Number of rows and columns for previous application: (1670214, 37)\n",
            "Number of rows and columns for bureau: (1716428, 17)\n",
            "Number of rows and columns for previous balance: (27299925, 3)\n",
            "Number of rows and columns for train: (307511, 122)\n",
            "Number of rows and columns for test: (48744, 121)\n"
          ]
        }
      ],
      "source": [
        "#Your code here\n",
        "#The variables that should be implemented to store the data are: app_train, app_test, bureau, app_past\n",
        "\n",
        "\n",
        "# 1 - Loading the different datasets.\n",
        "prev_app = pd.read_csv(previous_application)\n",
        "bureau = pd.read_csv(src_bureau)\n",
        "bureau_balance = pd.read_csv(src_bureau_balance)\n",
        "app_train = pd.read_csv(src_train)\n",
        "app_test = pd.read_csv(src_test)\n",
        "\n",
        "# 2 - The number of rows and columns for each\n",
        "print(f'Number of rows and columns for previous application: {prev_app.shape}')\n",
        "print(f'Number of rows and columns for bureau: {bureau.shape}')\n",
        "print(f'Number of rows and columns for previous balance: {bureau_balance.shape}')\n",
        "print(f'Number of rows and columns for train: {app_train.shape}')\n",
        "print(f'Number of rows and columns for test: {app_test.shape}')\n"
      ]
    },
    {
      "cell_type": "markdown",
      "metadata": {
        "id": "GnMI0pRmkHzH"
      },
      "source": [
        "<h1> Feature Engineering</h1>"
      ]
    },
    {
      "cell_type": "markdown",
      "metadata": {
        "id": "SuAAPVW1kH82"
      },
      "source": [
        "<h2>Missing values (9pts)</h2>\n",
        "\n",
        "\n",
        "**3.a**: What columns are missing the most values in app_test?\n",
        "\n",
        "**3.b**: What columns are missing the most values in bureau?\n",
        "\n",
        "**3.c**: What columns are missing the most values in app_past?\n",
        "\n",
        "4: Fix missing data in app_test dataset using categorization and/or simple imputation when appropriate. Be careful to the **data leakage** issue!\n",
        "\n",
        "*You will be evaluated as follow*\n",
        "* 3: Correct approach + code 2pts.\n",
        "* 4: Description of the approach 4pts. Code implementation of the approach 3pts."
      ]
    },
    {
      "cell_type": "code",
      "execution_count": 5,
      "metadata": {
        "id": "GCD-Tet5rKuq",
        "colab": {
          "base_uri": "https://localhost:8080/"
        },
        "outputId": "95cbf989-6ede-4e77-b813-f34a9d20f3cb"
      },
      "outputs": [
        {
          "output_type": "stream",
          "name": "stdout",
          "text": [
            "Columns with the most missing values: \n",
            "COMMONAREA_AVG              33495\n",
            "COMMONAREA_MODE             33495\n",
            "COMMONAREA_MEDI             33495\n",
            "NONLIVINGAPARTMENTS_AVG     33347\n",
            "NONLIVINGAPARTMENTS_MODE    33347\n",
            "dtype: int64\n",
            "Columns with the most missing values: \n",
            "AMT_ANNUITY               1226791\n",
            "AMT_CREDIT_MAX_OVERDUE    1124488\n",
            "DAYS_ENDDATE_FACT          633653\n",
            "AMT_CREDIT_SUM_LIMIT       591780\n",
            "AMT_CREDIT_SUM_DEBT        257669\n",
            "dtype: int64\n",
            "Columns with the most missing values: \n",
            "RATE_INTEREST_PRIVILEGED    1664263\n",
            "RATE_INTEREST_PRIMARY       1664263\n",
            "AMT_DOWN_PAYMENT             895844\n",
            "RATE_DOWN_PAYMENT            895844\n",
            "NAME_TYPE_SUITE              820405\n",
            "dtype: int64\n"
          ]
        }
      ],
      "source": [
        "# 3a missing values on app_test\n",
        "missing_values = app_test.isnull().sum()\n",
        "print(f'Columns with the most missing values: \\n{missing_values.sort_values(ascending=False).head(5)}')\n",
        "\n",
        "# 3b missing values on bureau\n",
        "missing_values = bureau.isnull().sum()\n",
        "print(f'Columns with the most missing values: \\n{missing_values.sort_values(ascending=False).head(5)}')\n",
        "\n",
        "## 3c\n",
        "missing_values =  prev_app.isnull().sum()\n",
        "print(f'Columns with the most missing values: \\n{missing_values.sort_values(ascending=False).head(5)}')\n"
      ]
    },
    {
      "cell_type": "code",
      "source": [
        "# 4: Fix missing data in app_test using categorization and/or simple imputation when appropriate. You should use *only* pandas and numpy here. You should *not* use sklearn (scikit-learn).\n",
        "\n",
        "## Your code here\n",
        "\n",
        "## Get the column names to iterate through them\n",
        "columns_names = app_test.columns.tolist()\n",
        "\n",
        "## Check for skewness to decide which is the 'best' way to fix missing vlaues\n",
        "# for column in columns_names:\n",
        "#   if app_test[column].dtype == 'float64' or app_test[column].dtype == 'numerical' or app_test[column].dtype == 'int':\n",
        "#     print(app_test[column].skew())\n",
        "\n",
        "## Fill NaN numerical columns whith MEDIAN value\n",
        "for column in columns_names:\n",
        "  if app_test[column].dtype == 'float64' or app_test[column].dtype == 'numerical' or app_test[column].dtype == 'int':\n",
        "    app_test[column] = app_test[column].fillna(app_test[column].median())\n",
        "\n",
        "\n",
        "## Fill NaN categorical columns with \"Not specified\" value\n",
        "categorical_missing = app_test.select_dtypes(include=['object']).isnull().sum().sort_values(ascending=False)\n",
        "categorical_missing = categorical_missing[categorical_missing > 0]\n",
        "categorical_missing = categorical_missing.index.tolist()\n",
        "\n",
        "for column in categorical_missing:\n",
        "  app_test[column] = app_test[column].fillna('not specified')\n",
        "\n",
        "\n",
        "## Check if there is a column with missing values after fixing them\n",
        "app_test.isnull().sum().sort_values(ascending=True)\n",
        "\n",
        "\n"
      ],
      "metadata": {
        "id": "VHMqNrlrgddN",
        "outputId": "9fe5ced0-404c-4d45-f89b-7f21d2bc46b5",
        "colab": {
          "base_uri": "https://localhost:8080/",
          "height": 458
        }
      },
      "execution_count": 6,
      "outputs": [
        {
          "output_type": "execute_result",
          "data": {
            "text/plain": [
              "SK_ID_CURR                      0\n",
              "TOTALAREA_MODE                  0\n",
              "HOUSETYPE_MODE                  0\n",
              "FONDKAPREMONT_MODE              0\n",
              "NONLIVINGAREA_MEDI              0\n",
              "                               ..\n",
              "REG_REGION_NOT_LIVE_REGION      0\n",
              "HOUR_APPR_PROCESS_START         0\n",
              "WEEKDAY_APPR_PROCESS_START      0\n",
              "YEARS_BEGINEXPLUATATION_MODE    0\n",
              "AMT_REQ_CREDIT_BUREAU_YEAR      0\n",
              "Length: 121, dtype: int64"
            ],
            "text/html": [
              "<div>\n",
              "<style scoped>\n",
              "    .dataframe tbody tr th:only-of-type {\n",
              "        vertical-align: middle;\n",
              "    }\n",
              "\n",
              "    .dataframe tbody tr th {\n",
              "        vertical-align: top;\n",
              "    }\n",
              "\n",
              "    .dataframe thead th {\n",
              "        text-align: right;\n",
              "    }\n",
              "</style>\n",
              "<table border=\"1\" class=\"dataframe\">\n",
              "  <thead>\n",
              "    <tr style=\"text-align: right;\">\n",
              "      <th></th>\n",
              "      <th>0</th>\n",
              "    </tr>\n",
              "  </thead>\n",
              "  <tbody>\n",
              "    <tr>\n",
              "      <th>SK_ID_CURR</th>\n",
              "      <td>0</td>\n",
              "    </tr>\n",
              "    <tr>\n",
              "      <th>TOTALAREA_MODE</th>\n",
              "      <td>0</td>\n",
              "    </tr>\n",
              "    <tr>\n",
              "      <th>HOUSETYPE_MODE</th>\n",
              "      <td>0</td>\n",
              "    </tr>\n",
              "    <tr>\n",
              "      <th>FONDKAPREMONT_MODE</th>\n",
              "      <td>0</td>\n",
              "    </tr>\n",
              "    <tr>\n",
              "      <th>NONLIVINGAREA_MEDI</th>\n",
              "      <td>0</td>\n",
              "    </tr>\n",
              "    <tr>\n",
              "      <th>...</th>\n",
              "      <td>...</td>\n",
              "    </tr>\n",
              "    <tr>\n",
              "      <th>REG_REGION_NOT_LIVE_REGION</th>\n",
              "      <td>0</td>\n",
              "    </tr>\n",
              "    <tr>\n",
              "      <th>HOUR_APPR_PROCESS_START</th>\n",
              "      <td>0</td>\n",
              "    </tr>\n",
              "    <tr>\n",
              "      <th>WEEKDAY_APPR_PROCESS_START</th>\n",
              "      <td>0</td>\n",
              "    </tr>\n",
              "    <tr>\n",
              "      <th>YEARS_BEGINEXPLUATATION_MODE</th>\n",
              "      <td>0</td>\n",
              "    </tr>\n",
              "    <tr>\n",
              "      <th>AMT_REQ_CREDIT_BUREAU_YEAR</th>\n",
              "      <td>0</td>\n",
              "    </tr>\n",
              "  </tbody>\n",
              "</table>\n",
              "<p>121 rows × 1 columns</p>\n",
              "</div><br><label><b>dtype:</b> int64</label>"
            ]
          },
          "metadata": {},
          "execution_count": 6
        }
      ]
    },
    {
      "cell_type": "markdown",
      "metadata": {
        "id": "Sz6iD4S-rVUy"
      },
      "source": [
        "**4**: Describe your approach, including how you choose the technique to apply, and how you apply the technique (double click to edit a text cell)\n",
        "\n",
        "---\n",
        "\n",
        "Here I decided to fill the null values with the mean in the case of the numerical values and for categorical values I decided to add the 'not specified' value, since there was already a value named like this.\n",
        "And in the case of the numerical values, the skewness was verified, and since most of the data was skewed the MEDIAN was a better way to fill the missing values."
      ]
    },
    {
      "cell_type": "markdown",
      "metadata": {
        "id": "LRgq0O0R8Dql"
      },
      "source": [
        "## Class Imbalance (8 pts)\n",
        "\n",
        "5. Evaluate the class imbalance of the training set.\n",
        "\n",
        "6. **a** Fix the class imbalance with over/undersampling\n",
        "\n",
        " **b** Use the SMOTE algorithm to fix class imbalance\n",
        "\n",
        "*You will be evaluated as follow*\n",
        "* 5: Correct approach + code: 2ts\n",
        "* 6.a: code 3pt\n",
        "* 6.b: code 3pts"
      ]
    },
    {
      "cell_type": "code",
      "execution_count": 22,
      "metadata": {
        "id": "ylyaMfXN8Kbd",
        "outputId": "760c61c1-2df4-4778-c49f-9de811116092",
        "colab": {
          "base_uri": "https://localhost:8080/",
          "height": 606
        }
      },
      "outputs": [
        {
          "output_type": "stream",
          "name": "stdout",
          "text": [
            "TARGET\n",
            "0    282686\n",
            "1     24825\n",
            "Name: count, dtype: int64\n",
            "TARGET\n",
            "0    91.927118\n",
            "1     8.072882\n",
            "Name: proportion, dtype: float64\n"
          ]
        },
        {
          "output_type": "display_data",
          "data": {
            "text/plain": [
              "<Figure size 640x480 with 1 Axes>"
            ],
            "image/png": "[encoded data removed]"
          },
          "metadata": {}
        }
      ],
      "source": [
        "## Checking class imbalance on 'TARGET' column\n",
        "# 5 - value counts\n",
        "print(app_train['TARGET'].value_counts())\n",
        "print(app_train['TARGET'].value_counts(normalize = True) *100)\n",
        "\n",
        "# 5 - histograms\n",
        "app_train['TARGET'].value_counts().plot(kind='bar')\n",
        "plt.title('Target distribution')\n",
        "plt.xlabel('Target')\n",
        "plt.ylabel('Count')\n",
        "plt.show()"
      ]
    },
    {
      "cell_type": "code",
      "source": [
        "# 6.a Fix the class imbalance with over/undersampling\n",
        "app_train_copy = app_train.copy()\n",
        "\n",
        "majority_class = app_train_copy[app_train_copy['TARGET'] == app_train_copy['TARGET'].value_counts().idxmax()]\n",
        "minority_class = app_train_copy[app_train_copy['TARGET'] == app_train_copy['TARGET'].value_counts().idxmin()]\n",
        "\n",
        "majority_undersampled = majority_class.sample(n = len(minority_class), random_state = 42)\n",
        "undersampled = pd.concat([majority_undersampled, minority_class])\n",
        "\n",
        "print(undersampled['TARGET'].value_counts())\n",
        "\n",
        "undersampled['TARGET'].value_counts().plot(kind='bar')\n",
        "plt.title('Target distribution')\n",
        "plt.xlabel('Target')\n",
        "plt.ylabel('Count')\n",
        "plt.show()\n"
      ],
      "metadata": {
        "id": "zNMje_tnMOSw",
        "outputId": "d8666401-c39d-4b02-91f1-4757859adb27",
        "colab": {
          "base_uri": "https://localhost:8080/",
          "height": 536
        }
      },
      "execution_count": 55,
      "outputs": [
        {
          "output_type": "stream",
          "name": "stdout",
          "text": [
            "TARGET\n",
            "0    24825\n",
            "1    24825\n",
            "Name: count, dtype: int64\n"
          ]
        },
        {
          "output_type": "display_data",
          "data": {
            "text/plain": [
              "<Figure size 640x480 with 1 Axes>"
            ],
            "image/png": "[encoded data removed]"
          },
          "metadata": {}
        }
      ]
    },
    {
      "cell_type": "code",
      "source": [
        "# # 6.b Use the SMOTE algorithm to fix class imbalance\n"
      ],
      "metadata": {
        "id": "dc64k_VbWeOy",
        "outputId": "e250583b-190d-47b1-96d6-4ddc982698e2",
        "colab": {
          "base_uri": "https://localhost:8080/",
          "height": 178
        }
      },
      "execution_count": 57,
      "outputs": [
        {
          "output_type": "execute_result",
          "data": {
            "text/plain": [
              "TARGET\n",
              "0    282686\n",
              "1     24825\n",
              "Name: count, dtype: int64"
            ],
            "text/html": [
              "<div>\n",
              "<style scoped>\n",
              "    .dataframe tbody tr th:only-of-type {\n",
              "        vertical-align: middle;\n",
              "    }\n",
              "\n",
              "    .dataframe tbody tr th {\n",
              "        vertical-align: top;\n",
              "    }\n",
              "\n",
              "    .dataframe thead th {\n",
              "        text-align: right;\n",
              "    }\n",
              "</style>\n",
              "<table border=\"1\" class=\"dataframe\">\n",
              "  <thead>\n",
              "    <tr style=\"text-align: right;\">\n",
              "      <th></th>\n",
              "      <th>count</th>\n",
              "    </tr>\n",
              "    <tr>\n",
              "      <th>TARGET</th>\n",
              "      <th></th>\n",
              "    </tr>\n",
              "  </thead>\n",
              "  <tbody>\n",
              "    <tr>\n",
              "      <th>0</th>\n",
              "      <td>282686</td>\n",
              "    </tr>\n",
              "    <tr>\n",
              "      <th>1</th>\n",
              "      <td>24825</td>\n",
              "    </tr>\n",
              "  </tbody>\n",
              "</table>\n",
              "</div><br><label><b>dtype:</b> int64</label>"
            ]
          },
          "metadata": {},
          "execution_count": 57
        }
      ]
    },
    {
      "cell_type": "markdown",
      "metadata": {
        "id": "KP0jGTbSfQyb"
      },
      "source": [
        "**5**: Describe briefly your observation (double click to edit a text cell)"
      ]
    },
    {
      "cell_type": "code",
      "execution_count": null,
      "metadata": {
        "id": "PTyLbFbxgiD1"
      },
      "outputs": [],
      "source": [
        "# copy your current dataframe with its .copy() method. You should always use the copy() method if you want to keep the original dataframe untouched when you modify\n",
        "# this is a very common bug, so please read  https://www.statology.org/pandas-copy-dataframe/\n",
        "\n",
        "## Your code here\n",
        "app_train_original = ...\n",
        "\n",
        "\n",
        "# 6.a - fix imbalance with undersampling or oversampling\n",
        "# Implement undersampling or oversampling *without* external libraries, only the library provided to implement yourself the chosen solution.\n",
        "\n",
        "## Your code here\n",
        "\n",
        "\n",
        "# 6.b - fix balance with SMOTE on your previously copied dataframe\n",
        "# You can use any external libraries to use SMOTE. We recommend the imbalanced-learn package https://imbalanced-learn.org/stable/over_sampling.html\n",
        "# Make sure to select the appropriate SMOTE variant.\n",
        "\n",
        "\n",
        "## Your code here\n",
        "app_train_smote = ...\n",
        "\n",
        "\n",
        "# We will use the dataframe app_train from 6.a in the following"
      ]
    },
    {
      "cell_type": "markdown",
      "metadata": {
        "id": "h27ZdP7aloQb"
      },
      "source": [
        "<h2>Categorical features (9pts)</h2>\n",
        "\n",
        "In `app_test`\n",
        "\n",
        "**7a**: How will you transform the column NAME_HOUSING_TYPE in app_test be correctly handled by the model? How will you transform CODE_GENDER column?\n",
        "\n",
        "**7b**: How would you transform the column NAME_HOUSING_TYPE in app_test if you want only 3 categories? Use LabelEncoder to transform FLAG_OWN_CAR column.\n",
        "\n",
        "**7c**: In ORGANIZATION_TYPE, only keep the categories that appear in more than 10% of the dataset. Group other categories in one. What is the size of the dummy vector for ORGANIZATION_TYPE after this transformation?\n",
        "\n",
        "\n",
        "8: **In app_test, app_past and bureau,** transform all the categorical columns that you have not processed in 7 using One-hot encoding.\n",
        "\n",
        "*You will be evaluated as follow*\n",
        "* 7: Description of the approach 4pts. Code 3pts.\n",
        "* 8: Correct approach + code 2pts."
      ]
    },
    {
      "cell_type": "code",
      "execution_count": null,
      "metadata": {
        "id": "shlk_faurPh6"
      },
      "outputs": [],
      "source": [
        "## Your code here"
      ]
    },
    {
      "cell_type": "markdown",
      "metadata": {
        "id": "ufWJR8ScnHb4"
      },
      "source": [
        "<h2>Anomalies (7 pts)</h2>\n",
        "\n",
        "**In app_test**\n",
        "\n",
        "**9a**: Is there an anomaly with the column DEF_30_CNT_SOCIAL_CIRCLE? If so, how would you solve it?\n",
        "\n",
        "**9b**: Is there an anomaly with the column LANDAREA_AVG? If so, how would you solve it?\n",
        "\n",
        "**9c**: Is there an anomaly with the column AMT_INCOME_TOTAL? If so, how would you solve it?\n",
        "\n",
        "10: Fix the anomaly in DAYS_EMPLOYED?\n",
        "\n",
        "*You will be evaluated as follow*\n",
        "* 9: Description of the approach + code 5pts.\n",
        "* 10: code 2pts"
      ]
    },
    {
      "cell_type": "code",
      "execution_count": null,
      "metadata": {
        "id": "I5TcZk8Q5jQ-"
      },
      "outputs": [],
      "source": [
        "## Your code here"
      ]
    },
    {
      "cell_type": "markdown",
      "metadata": {
        "id": "DgQ2i5B25lRC"
      },
      "source": [
        "<h2>Correlations (9 pts)</h2>\n",
        "\n",
        "\n",
        "11: **In app_test**, remove the collinear features of the dataset. How did you choose the threshold?\n",
        "\n",
        "12: What features from bureau.csv could you use to improve the training set? Use the random forest model from the notebook of the Lecture to check if it actually improves the final model performance.\n",
        "\n",
        "*You will be evaluated as follow*\n",
        "* 11: Code 3pts. Threshold explanation 1pt.\n",
        "* 12: Description of the approach 1pt. Code implementation of the approach 2pts. Improved performance 2pts."
      ]
    },
    {
      "cell_type": "code",
      "execution_count": null,
      "metadata": {
        "id": "uU1j3LW2S-ir"
      },
      "outputs": [],
      "source": [
        "## Your code here"
      ]
    },
    {
      "cell_type": "markdown",
      "metadata": {
        "id": "7_fQJhfcyQWn"
      },
      "source": [
        "##  Class imbalance and model performances (6 points)\n",
        "\n",
        "\n",
        "**13**: Evaluate the other technique (SMOTE) to handeling imbalance data left in *6.b*. Does it makes a difference on the final model performance? Can you use the performance on the test set to choose which techniques to use? If not, what would you need to do so?\n",
        "\n",
        "*You will be evaluated as follow*\n",
        "* 13: Code 3pts. Explanation 3pts.\n"
      ]
    },
    {
      "cell_type": "code",
      "execution_count": null,
      "metadata": {
        "id": "jDR7b8VRyUkS"
      },
      "outputs": [],
      "source": [
        "## Your code here"
      ]
    },
    {
      "cell_type": "markdown",
      "metadata": {
        "id": "-kxXg4CA3nPO"
      },
      "source": [
        "**13**: Answer the question here (double click to edit a text cell)\n",
        "\n"
      ]
    }
  ],
  "metadata": {
    "colab": {
      "provenance": [],
      "gpuType": "T4"
    },
    "kernelspec": {
      "display_name": "Python 3",
      "name": "python3"
    },
    "accelerator": "GPU"
  },
  "nbformat": 4,
  "nbformat_minor": 0
}