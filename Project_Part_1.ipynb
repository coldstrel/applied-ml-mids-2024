{
  "cells": [
    {
      "cell_type": "markdown",
      "metadata": {
        "id": "y6XZ55wHbdm5"
      },
      "source": [
        "# Part 1 of the Machine Learning Project\n",
        "\n",
        "## Preliminaries\n",
        "\n",
        "\n",
        "Before satring familiarize yourself with pandas reading the “10 minutes to pandas” tutorial: https://pandas.pydata.org/pandas-docs/stable/user_guide/10min.html\n",
        "\n",
        "Browse through the full pandas user guide when needed: https://pandas.pydata.org/pandas-docs/stable/user_guide/index.html\n",
        "\n",
        "\n",
        "## Load libraries"
      ]
    },
    {
      "cell_type": "markdown",
      "metadata": {
        "id": "94VoIo4Gwhnc"
      },
      "source": [
        "Test on Markdown"
      ]
    },
    {
      "cell_type": "code",
      "execution_count": 1,
      "metadata": {
        "id": "L8jsxX6eaxL_"
      },
      "outputs": [],
      "source": [
        "# numpy and pandas for data manipulation\n",
        "import numpy as np\n",
        "import pandas as pd\n",
        "from scipy import stats\n",
        "import numpy as np\n",
        "\n",
        "# File system manangement\n",
        "import os\n",
        "\n",
        "# Suppress warnings\n",
        "#import warnings\n",
        "#warnings.filterwarnings('ignore')\n",
        "\n",
        "# matplotlib and seaborn for plotting\n",
        "import matplotlib.pyplot as plt\n",
        "import seaborn as sns\n"
      ]
    },
    {
      "cell_type": "markdown",
      "metadata": {
        "id": "ctTp1HonbYpj"
      },
      "source": [
        "<p><img alt=\"Datasets\" src=\"https://storage.googleapis.com/kaggle-media/competitions/home-credit/home_credit.png\" align=\"left\" hspace=\"10px\" vspace=\"0px\"></p>\n",
        "\n",
        "\n",
        "<h1>Datasets</h1>"
      ]
    },
    {
      "cell_type": "code",
      "source": [
        "from google.colab import drive\n",
        "drive.mount('/content/drive')"
      ],
      "metadata": {
        "colab": {
          "base_uri": "https://localhost:8080/"
        },
        "id": "dQVEExt5zBTK",
        "outputId": "788ddbce-19b2-41f3-dee8-219420d4f5f5"
      },
      "execution_count": 2,
      "outputs": [
        {
          "output_type": "stream",
          "name": "stdout",
          "text": [
            "Mounted at /content/drive\n"
          ]
        }
      ]
    },
    {
      "cell_type": "code",
      "execution_count": 3,
      "metadata": {
        "id": "TAo_jy0PhBEY"
      },
      "outputs": [],
      "source": [
        "## Change this part with your own dataset files\n",
        "previous_application = 'drive/MyDrive/Advanced_Machine_Learning/previous_application.csv'\n",
        "src_bureau = 'drive/MyDrive/Advanced_Machine_Learning/bureau.csv'\n",
        "src_bureau_balance = 'drive/MyDrive/Advanced_Machine_Learning/bureau_balance.csv'\n",
        "src_train = 'drive/MyDrive/Advanced_Machine_Learning/application_train.csv'\n",
        "src_test = 'drive/MyDrive/Advanced_Machine_Learning/application_test.csv'\n",
        "\n",
        "\n",
        "# If you cannot load the directly the csv from Google drive (Google restrictions), download them manually then change the path to load them locally\n",
        "\n"
      ]
    },
    {
      "cell_type": "markdown",
      "metadata": {
        "id": "uPBTWB1ViFHe"
      },
      "source": [
        "<h1>Loading the datasets (2 pts)</h1>\n",
        "\n",
        "1. Similarly to the train set, load the test set, the bureau dataset and the past applications dataset.\n",
        "\n",
        "2. Display for each the number of rows and the number of columns\n",
        "\n",
        "*You will be evaluated as follow*\n",
        "* 1: Correct approach + code: 1pt\n",
        "* 2: Code: 1pts\n"
      ]
    },
    {
      "cell_type": "code",
      "execution_count": 4,
      "metadata": {
        "id": "GjoGTJvLiBPP",
        "colab": {
          "base_uri": "https://localhost:8080/"
        },
        "outputId": "d6aaaabd-0205-4d25-a496-4b6378beb681"
      },
      "outputs": [
        {
          "output_type": "stream",
          "name": "stdout",
          "text": [
            "Number of rows and columns for previous application: (1670214, 37)\n",
            "Number of rows and columns for bureau: (1716428, 17)\n",
            "Number of rows and columns for previous balance: (27299925, 3)\n",
            "Number of rows and columns for train: (307511, 122)\n",
            "Number of rows and columns for test: (48744, 121)\n"
          ]
        }
      ],
      "source": [
        "#Your code here\n",
        "#The variables that should be implemented to store the data are: app_train, app_test, bureau, app_past\n",
        "\n",
        "\n",
        "# 1 - Loading the different datasets.\n",
        "prev_app = pd.read_csv(previous_application)\n",
        "bureau = pd.read_csv(src_bureau)\n",
        "bureau_balance = pd.read_csv(src_bureau_balance)\n",
        "app_train = pd.read_csv(src_train)\n",
        "app_test = pd.read_csv(src_test)\n",
        "\n",
        "# 2 - The number of rows and columns for each\n",
        "print(f'Number of rows and columns for previous application: {prev_app.shape}')\n",
        "print(f'Number of rows and columns for bureau: {bureau.shape}')\n",
        "print(f'Number of rows and columns for previous balance: {bureau_balance.shape}')\n",
        "print(f'Number of rows and columns for train: {app_train.shape}')\n",
        "print(f'Number of rows and columns for test: {app_test.shape}')\n"
      ]
    },
    {
      "cell_type": "markdown",
      "metadata": {
        "id": "GnMI0pRmkHzH"
      },
      "source": [
        "<h1> Feature Engineering</h1>"
      ]
    },
    {
      "cell_type": "markdown",
      "metadata": {
        "id": "SuAAPVW1kH82"
      },
      "source": [
        "<h2>Missing values (9pts)</h2>\n",
        "\n",
        "\n",
        "**3.a**: What columns are missing the most values in app_test?\n",
        "\n",
        "**3.b**: What columns are missing the most values in bureau?\n",
        "\n",
        "**3.c**: What columns are missing the most values in app_past?\n",
        "\n",
        "4: Fix missing data in app_test dataset using categorization and/or simple imputation when appropriate. Be careful to the **data leakage** issue!\n",
        "\n",
        "*You will be evaluated as follow*\n",
        "* 3: Correct approach + code 2pts.\n",
        "* 4: Description of the approach 4pts. Code implementation of the approach 3pts."
      ]
    },
    {
      "cell_type": "code",
      "execution_count": 5,
      "metadata": {
        "id": "GCD-Tet5rKuq",
        "colab": {
          "base_uri": "https://localhost:8080/"
        },
        "outputId": "f315d70c-dc4e-459d-d1f8-ae9e29945961"
      },
      "outputs": [
        {
          "output_type": "stream",
          "name": "stdout",
          "text": [
            "Columns with the most missing values: \n",
            "COMMONAREA_AVG              33495\n",
            "COMMONAREA_MODE             33495\n",
            "COMMONAREA_MEDI             33495\n",
            "NONLIVINGAPARTMENTS_AVG     33347\n",
            "NONLIVINGAPARTMENTS_MODE    33347\n",
            "dtype: int64\n",
            "Columns with the most missing values: \n",
            "AMT_ANNUITY               1226791\n",
            "AMT_CREDIT_MAX_OVERDUE    1124488\n",
            "DAYS_ENDDATE_FACT          633653\n",
            "AMT_CREDIT_SUM_LIMIT       591780\n",
            "AMT_CREDIT_SUM_DEBT        257669\n",
            "dtype: int64\n",
            "Columns with the most missing values: \n",
            "RATE_INTEREST_PRIVILEGED    1664263\n",
            "RATE_INTEREST_PRIMARY       1664263\n",
            "AMT_DOWN_PAYMENT             895844\n",
            "RATE_DOWN_PAYMENT            895844\n",
            "NAME_TYPE_SUITE              820405\n",
            "dtype: int64\n"
          ]
        }
      ],
      "source": [
        "# 3a missing values on app_test\n",
        "missing_values = app_test.isnull().sum()\n",
        "print(f'Columns with the most missing values: \\n{missing_values.sort_values(ascending=False).head(5)}')\n",
        "\n",
        "# 3b missing values on bureau\n",
        "missing_values = bureau.isnull().sum()\n",
        "print(f'Columns with the most missing values: \\n{missing_values.sort_values(ascending=False).head(5)}')\n",
        "\n",
        "## 3c\n",
        "missing_values =  prev_app.isnull().sum()\n",
        "print(f'Columns with the most missing values: \\n{missing_values.sort_values(ascending=False).head(5)}')\n"
      ]
    },
    {
      "cell_type": "code",
      "source": [
        "# 4: Fix missing data in app_test using categorization and/or simple imputation when appropriate. You should use *only* pandas and numpy here. You should *not* use sklearn (scikit-learn).\n",
        "\n",
        "## Your code here\n",
        "\n",
        "## Get the column names to iterate through them\n",
        "columns_names = app_test.columns.tolist()\n",
        "\n",
        "## Check for skewness to decide which is the 'best' way to fix missing vlaues\n",
        "# for column in columns_names:\n",
        "#   if app_test[column].dtype == 'float64' or app_test[column].dtype == 'numerical' or app_test[column].dtype == 'int':\n",
        "#     print(app_test[column].skew())\n",
        "\n",
        "## Fill NaN numerical columns whith MEDIAN value\n",
        "for column in columns_names:\n",
        "  if app_test[column].dtype == 'float64' or app_test[column].dtype == 'numerical' or app_test[column].dtype == 'int':\n",
        "    app_test[column] = app_test[column].fillna(app_test[column].median())\n",
        "\n",
        "\n",
        "## Fill NaN categorical columns with \"Not specified\" value\n",
        "categorical_missing = app_test.select_dtypes(include=['object']).isnull().sum().sort_values(ascending=False)\n",
        "categorical_missing = categorical_missing[categorical_missing > 0]\n",
        "categorical_missing = categorical_missing.index.tolist()\n",
        "\n",
        "for column in categorical_missing:\n",
        "  app_test[column] = app_test[column].fillna('not specified')\n",
        "\n",
        "\n",
        "## Check if there is a column with missing values after fixing them\n",
        "app_test.isnull().sum().sort_values(ascending=True)\n",
        "\n",
        "\n"
      ],
      "metadata": {
        "id": "VHMqNrlrgddN",
        "outputId": "929df291-414f-4210-f2ce-a908291005d2",
        "colab": {
          "base_uri": "https://localhost:8080/",
          "height": 478
        }
      },
      "execution_count": 6,
      "outputs": [
        {
          "output_type": "execute_result",
          "data": {
            "text/plain": [
              "SK_ID_CURR                      0\n",
              "TOTALAREA_MODE                  0\n",
              "HOUSETYPE_MODE                  0\n",
              "FONDKAPREMONT_MODE              0\n",
              "NONLIVINGAREA_MEDI              0\n",
              "                               ..\n",
              "REG_REGION_NOT_LIVE_REGION      0\n",
              "HOUR_APPR_PROCESS_START         0\n",
              "WEEKDAY_APPR_PROCESS_START      0\n",
              "YEARS_BEGINEXPLUATATION_MODE    0\n",
              "AMT_REQ_CREDIT_BUREAU_YEAR      0\n",
              "Length: 121, dtype: int64"
            ],
            "text/html": [
              "<div>\n",
              "<style scoped>\n",
              "    .dataframe tbody tr th:only-of-type {\n",
              "        vertical-align: middle;\n",
              "    }\n",
              "\n",
              "    .dataframe tbody tr th {\n",
              "        vertical-align: top;\n",
              "    }\n",
              "\n",
              "    .dataframe thead th {\n",
              "        text-align: right;\n",
              "    }\n",
              "</style>\n",
              "<table border=\"1\" class=\"dataframe\">\n",
              "  <thead>\n",
              "    <tr style=\"text-align: right;\">\n",
              "      <th></th>\n",
              "      <th>0</th>\n",
              "    </tr>\n",
              "  </thead>\n",
              "  <tbody>\n",
              "    <tr>\n",
              "      <th>SK_ID_CURR</th>\n",
              "      <td>0</td>\n",
              "    </tr>\n",
              "    <tr>\n",
              "      <th>TOTALAREA_MODE</th>\n",
              "      <td>0</td>\n",
              "    </tr>\n",
              "    <tr>\n",
              "      <th>HOUSETYPE_MODE</th>\n",
              "      <td>0</td>\n",
              "    </tr>\n",
              "    <tr>\n",
              "      <th>FONDKAPREMONT_MODE</th>\n",
              "      <td>0</td>\n",
              "    </tr>\n",
              "    <tr>\n",
              "      <th>NONLIVINGAREA_MEDI</th>\n",
              "      <td>0</td>\n",
              "    </tr>\n",
              "    <tr>\n",
              "      <th>...</th>\n",
              "      <td>...</td>\n",
              "    </tr>\n",
              "    <tr>\n",
              "      <th>REG_REGION_NOT_LIVE_REGION</th>\n",
              "      <td>0</td>\n",
              "    </tr>\n",
              "    <tr>\n",
              "      <th>HOUR_APPR_PROCESS_START</th>\n",
              "      <td>0</td>\n",
              "    </tr>\n",
              "    <tr>\n",
              "      <th>WEEKDAY_APPR_PROCESS_START</th>\n",
              "      <td>0</td>\n",
              "    </tr>\n",
              "    <tr>\n",
              "      <th>YEARS_BEGINEXPLUATATION_MODE</th>\n",
              "      <td>0</td>\n",
              "    </tr>\n",
              "    <tr>\n",
              "      <th>AMT_REQ_CREDIT_BUREAU_YEAR</th>\n",
              "      <td>0</td>\n",
              "    </tr>\n",
              "  </tbody>\n",
              "</table>\n",
              "<p>121 rows × 1 columns</p>\n",
              "</div><br><label><b>dtype:</b> int64</label>"
            ]
          },
          "metadata": {},
          "execution_count": 6
        }
      ]
    },
    {
      "cell_type": "markdown",
      "metadata": {
        "id": "Sz6iD4S-rVUy"
      },
      "source": [
        "**4**: Describe your approach, including how you choose the technique to apply, and how you apply the technique (double click to edit a text cell)\n",
        "\n",
        "---\n",
        "\n",
        "Here I decided to fill the null values with the mean in the case of the numerical values and for categorical values I decided to add the 'not specified' value, since there was already a value named like this.\n",
        "And in the case of the numerical values, the skewness was verified, and since most of the data was skewed the MEDIAN was a better way to fill the missing values."
      ]
    },
    {
      "cell_type": "markdown",
      "metadata": {
        "id": "LRgq0O0R8Dql"
      },
      "source": [
        "## Class Imbalance (8 pts)\n",
        "\n",
        "5. Evaluate the class imbalance of the training set.\n",
        "\n",
        "6. **a** Fix the class imbalance with over/undersampling\n",
        "\n",
        " **b** Use the SMOTE algorithm to fix class imbalance\n",
        "\n",
        "*You will be evaluated as follow*\n",
        "* 5: Correct approach + code: 2ts\n",
        "* 6.a: code 3pt\n",
        "* 6.b: code 3pts"
      ]
    },
    {
      "cell_type": "code",
      "execution_count": 7,
      "metadata": {
        "id": "ylyaMfXN8Kbd",
        "outputId": "add45bb1-5147-49a8-8f61-a63be5395909",
        "colab": {
          "base_uri": "https://localhost:8080/",
          "height": 629
        }
      },
      "outputs": [
        {
          "output_type": "stream",
          "name": "stdout",
          "text": [
            "TARGET\n",
            "0    282686\n",
            "1     24825\n",
            "Name: count, dtype: int64\n",
            "TARGET\n",
            "0    91.927118\n",
            "1     8.072882\n",
            "Name: proportion, dtype: float64\n"
          ]
        },
        {
          "output_type": "display_data",
          "data": {
            "text/plain": [
              "<Figure size 640x480 with 1 Axes>"
            ],
            "image/png": "[encoded data removed]"
          },
          "metadata": {}
        }
      ],
      "source": [
        "## Checking class imbalance on 'TARGET' column\n",
        "# 5 - value counts\n",
        "print(app_train['TARGET'].value_counts())\n",
        "print(app_train['TARGET'].value_counts(normalize = True) *100)\n",
        "\n",
        "# 5 - histograms\n",
        "app_train['TARGET'].value_counts().plot(kind='bar')\n",
        "plt.title('Target distribution')\n",
        "plt.xlabel('Target')\n",
        "plt.ylabel('Count')\n",
        "plt.show()"
      ]
    },
    {
      "cell_type": "code",
      "source": [
        "# 6.a Fix the class imbalance with over/undersampling\n",
        "app_train_copy = app_train.copy()\n",
        "\n",
        "majority_class = app_train_copy[app_train_copy['TARGET'] == app_train_copy['TARGET'].value_counts().idxmax()]\n",
        "minority_class = app_train_copy[app_train_copy['TARGET'] == app_train_copy['TARGET'].value_counts().idxmin()]\n",
        "\n",
        "majority_undersampled = majority_class.sample(n = len(minority_class), random_state = 42)\n",
        "undersampled = pd.concat([majority_undersampled, minority_class])\n",
        "\n",
        "print(undersampled['TARGET'].value_counts())\n",
        "\n",
        "undersampled['TARGET'].value_counts().plot(kind='bar')\n",
        "plt.title('Target distribution')\n",
        "plt.xlabel('Target')\n",
        "plt.ylabel('Count')\n",
        "plt.show()\n"
      ],
      "metadata": {
        "id": "zNMje_tnMOSw",
        "outputId": "0a30ee5a-34bd-4669-db42-97a7da486102",
        "colab": {
          "base_uri": "https://localhost:8080/",
          "height": 558
        }
      },
      "execution_count": 8,
      "outputs": [
        {
          "output_type": "stream",
          "name": "stdout",
          "text": [
            "TARGET\n",
            "0    24825\n",
            "1    24825\n",
            "Name: count, dtype: int64\n"
          ]
        },
        {
          "output_type": "display_data",
          "data": {
            "text/plain": [
              "<Figure size 640x480 with 1 Axes>"
            ],
            "image/png": "[encoded data removed]"
          },
          "metadata": {}
        }
      ]
    },
    {
      "cell_type": "code",
      "source": [
        "# # 6.b Use the SMOTE algorithm to fix class imbalance\n",
        "## import SMOTE library\n",
        "from imblearn.over_sampling import SMOTE\n",
        "from sklearn.compose import ColumnTransformer\n",
        "from sklearn.preprocessing import OneHotEncoder, StandardScaler\n",
        "## Create another copy of app_train dataframe\n",
        "app_train_copy2 = app_train.copy()\n"
      ],
      "metadata": {
        "id": "dc64k_VbWeOy"
      },
      "execution_count": 9,
      "outputs": []
    },
    {
      "cell_type": "markdown",
      "source": [
        "SMOTE algorithm can not wor with missing values, then we have to change them"
      ],
      "metadata": {
        "id": "Xq-ddPrd7-SQ"
      }
    },
    {
      "cell_type": "code",
      "source": [
        "## Get the column names to iterate through them\n",
        "columns_names = app_train_copy2.columns.tolist()\n",
        "## Fill NaN numerical columns whith MEDIAN value\n",
        "for column in columns_names:\n",
        "  if app_train_copy2[column].dtype == 'float64' or app_train_copy2[column].dtype == 'numerical' or app_train_copy2[column].dtype == 'int':\n",
        "    app_train_copy2[column] = app_train_copy2[column].fillna(app_train_copy2[column].median())\n",
        "\n",
        "\n",
        "## Fill NaN categorical columns with \"Not specified\" value\n",
        "categorical_missing = app_train_copy2.select_dtypes(include=['object']).isnull().sum().sort_values(ascending=False)\n",
        "categorical_missing = categorical_missing[categorical_missing > 0]\n",
        "categorical_missing = categorical_missing.index.tolist()\n",
        "\n",
        "for column in categorical_missing:\n",
        "  app_train_copy2[column] = app_train_copy2[column].fillna('not specified')\n",
        "\n",
        "\n",
        "## Check if there is a column with missing values after fixing them\n",
        "app_train_copy2.isnull().sum().sort_values(ascending=True)"
      ],
      "metadata": {
        "id": "K2fZpO3m7yD6",
        "outputId": "77c09e6f-ad96-474c-a700-18582d33457c",
        "colab": {
          "base_uri": "https://localhost:8080/",
          "height": 478
        }
      },
      "execution_count": 10,
      "outputs": [
        {
          "output_type": "execute_result",
          "data": {
            "text/plain": [
              "SK_ID_CURR                    0\n",
              "TOTALAREA_MODE                0\n",
              "HOUSETYPE_MODE                0\n",
              "FONDKAPREMONT_MODE            0\n",
              "NONLIVINGAREA_MEDI            0\n",
              "                             ..\n",
              "REG_REGION_NOT_LIVE_REGION    0\n",
              "HOUR_APPR_PROCESS_START       0\n",
              "WEEKDAY_APPR_PROCESS_START    0\n",
              "REGION_RATING_CLIENT          0\n",
              "AMT_REQ_CREDIT_BUREAU_YEAR    0\n",
              "Length: 122, dtype: int64"
            ],
            "text/html": [
              "<div>\n",
              "<style scoped>\n",
              "    .dataframe tbody tr th:only-of-type {\n",
              "        vertical-align: middle;\n",
              "    }\n",
              "\n",
              "    .dataframe tbody tr th {\n",
              "        vertical-align: top;\n",
              "    }\n",
              "\n",
              "    .dataframe thead th {\n",
              "        text-align: right;\n",
              "    }\n",
              "</style>\n",
              "<table border=\"1\" class=\"dataframe\">\n",
              "  <thead>\n",
              "    <tr style=\"text-align: right;\">\n",
              "      <th></th>\n",
              "      <th>0</th>\n",
              "    </tr>\n",
              "  </thead>\n",
              "  <tbody>\n",
              "    <tr>\n",
              "      <th>SK_ID_CURR</th>\n",
              "      <td>0</td>\n",
              "    </tr>\n",
              "    <tr>\n",
              "      <th>TOTALAREA_MODE</th>\n",
              "      <td>0</td>\n",
              "    </tr>\n",
              "    <tr>\n",
              "      <th>HOUSETYPE_MODE</th>\n",
              "      <td>0</td>\n",
              "    </tr>\n",
              "    <tr>\n",
              "      <th>FONDKAPREMONT_MODE</th>\n",
              "      <td>0</td>\n",
              "    </tr>\n",
              "    <tr>\n",
              "      <th>NONLIVINGAREA_MEDI</th>\n",
              "      <td>0</td>\n",
              "    </tr>\n",
              "    <tr>\n",
              "      <th>...</th>\n",
              "      <td>...</td>\n",
              "    </tr>\n",
              "    <tr>\n",
              "      <th>REG_REGION_NOT_LIVE_REGION</th>\n",
              "      <td>0</td>\n",
              "    </tr>\n",
              "    <tr>\n",
              "      <th>HOUR_APPR_PROCESS_START</th>\n",
              "      <td>0</td>\n",
              "    </tr>\n",
              "    <tr>\n",
              "      <th>WEEKDAY_APPR_PROCESS_START</th>\n",
              "      <td>0</td>\n",
              "    </tr>\n",
              "    <tr>\n",
              "      <th>REGION_RATING_CLIENT</th>\n",
              "      <td>0</td>\n",
              "    </tr>\n",
              "    <tr>\n",
              "      <th>AMT_REQ_CREDIT_BUREAU_YEAR</th>\n",
              "      <td>0</td>\n",
              "    </tr>\n",
              "  </tbody>\n",
              "</table>\n",
              "<p>122 rows × 1 columns</p>\n",
              "</div><br><label><b>dtype:</b> int64</label>"
            ]
          },
          "metadata": {},
          "execution_count": 10
        }
      ]
    },
    {
      "cell_type": "code",
      "source": [
        "# Separate features (X) and target (y)\n",
        "X = app_train_copy2.drop(columns=['TARGET'])  # Assuming 'TARGET' is your class column\n",
        "y = app_train_copy2['TARGET']\n",
        "\n",
        "y.value_counts()\n",
        "\n"
      ],
      "metadata": {
        "id": "8CF3SzBKXrnc",
        "outputId": "4a78236c-cc20-4b7f-e22a-d39c7326f5f9",
        "colab": {
          "base_uri": "https://localhost:8080/",
          "height": 198
        }
      },
      "execution_count": 11,
      "outputs": [
        {
          "output_type": "execute_result",
          "data": {
            "text/plain": [
              "TARGET\n",
              "0    282686\n",
              "1     24825\n",
              "Name: count, dtype: int64"
            ],
            "text/html": [
              "<div>\n",
              "<style scoped>\n",
              "    .dataframe tbody tr th:only-of-type {\n",
              "        vertical-align: middle;\n",
              "    }\n",
              "\n",
              "    .dataframe tbody tr th {\n",
              "        vertical-align: top;\n",
              "    }\n",
              "\n",
              "    .dataframe thead th {\n",
              "        text-align: right;\n",
              "    }\n",
              "</style>\n",
              "<table border=\"1\" class=\"dataframe\">\n",
              "  <thead>\n",
              "    <tr style=\"text-align: right;\">\n",
              "      <th></th>\n",
              "      <th>count</th>\n",
              "    </tr>\n",
              "    <tr>\n",
              "      <th>TARGET</th>\n",
              "      <th></th>\n",
              "    </tr>\n",
              "  </thead>\n",
              "  <tbody>\n",
              "    <tr>\n",
              "      <th>0</th>\n",
              "      <td>282686</td>\n",
              "    </tr>\n",
              "    <tr>\n",
              "      <th>1</th>\n",
              "      <td>24825</td>\n",
              "    </tr>\n",
              "  </tbody>\n",
              "</table>\n",
              "</div><br><label><b>dtype:</b> int64</label>"
            ]
          },
          "metadata": {},
          "execution_count": 11
        }
      ]
    },
    {
      "cell_type": "code",
      "source": [
        "# Identify categorical and numerical columns\n",
        "categorical_cols = X.select_dtypes(include=['object']).columns\n",
        "numerical_cols = X.select_dtypes(include=['number']).columns\n",
        "\n",
        "\n",
        "\n",
        "# Preprocessing: OneHotEncoding for categorical and scaling for numerical\n",
        "preprocessor = ColumnTransformer(\n",
        "    transformers=[\n",
        "        ('num', StandardScaler(), numerical_cols),\n",
        "        ('cat', OneHotEncoder(), categorical_cols)\n",
        "    ])\n",
        "\n",
        "X_preprocessed = preprocessor.fit_transform(X)\n",
        "\n",
        "smote = SMOTE(sampling_strategy = 0.3, k_neighbors = 5, random_state = 100)\n",
        "X_resampled, y_resampled = smote.fit_resample(X_preprocessed, y)\n",
        "\n",
        "# Now X_resampled and y_resampled hold the balanced data\n",
        "print(\"After SMOTE, class distribution:\")\n",
        "print(pd.Series(y_resampled).value_counts())\n",
        "\n",
        "count_class = y_resampled.value_counts() # Count the occurrences of each class\n",
        "plt.bar(count_class.index, count_class.values)\n",
        "plt.xlabel('Class')\n",
        "plt.ylabel('Count')\n",
        "plt.title('Class Distribution')\n",
        "plt.xticks(count_class.index, ['Class 0', 'Class 1'])\n",
        "plt.show()"
      ],
      "metadata": {
        "id": "GECoR1-4X3QJ",
        "outputId": "bc140713-a36a-4d8d-e1b3-ac3dbbc934fb",
        "colab": {
          "base_uri": "https://localhost:8080/",
          "height": 581
        }
      },
      "execution_count": 12,
      "outputs": [
        {
          "output_type": "stream",
          "name": "stdout",
          "text": [
            "After SMOTE, class distribution:\n",
            "TARGET\n",
            "0    282686\n",
            "1     84805\n",
            "Name: count, dtype: int64\n"
          ]
        },
        {
          "output_type": "display_data",
          "data": {
            "text/plain": [
              "<Figure size 640x480 with 1 Axes>"
            ],
            "image/png": "[encoded data removed]"
          },
          "metadata": {}
        }
      ]
    },
    {
      "cell_type": "markdown",
      "metadata": {
        "id": "KP0jGTbSfQyb"
      },
      "source": [
        "**5**: Describe briefly your observation (double click to edit a text cell)\n",
        "\n",
        "Its better to create copies of the datframe since we can make mistakes, knowing this for the first approach we selected the majorty and minority class, and then decide to undersample the data, this part did not require any data handling since we were working with just the TARGET column.\n",
        "\n",
        "For the use of SMOTE we have to make data handling since the algorithm does not support missing values, therefore we apply the same solution coded in missing values for app_test, this gave us the solution we needed for missing values, furthermore the algorithm does not support categorical values, this is the main reason to use one-hot encoding, changing this categorical values to numerical ones. then the algorithm could be applied, and as shown in the plot, the algorithm was applied correctly."
      ]
    },
    {
      "cell_type": "markdown",
      "metadata": {
        "id": "h27ZdP7aloQb"
      },
      "source": [
        "<h2>Categorical features (9pts)</h2>\n",
        "\n",
        "In `app_test`\n",
        "\n",
        "**7a**: How will you transform the column NAME_HOUSING_TYPE in app_test be correctly handled by the model? How will you transform CODE_GENDER column?\n",
        "\n",
        "**7b**: How would you transform the column NAME_HOUSING_TYPE in app_test if you want only 3 categories? Use LabelEncoder to transform FLAG_OWN_CAR column.\n",
        "\n",
        "**7c**: In ORGANIZATION_TYPE, only keep the categories that appear in more than 10% of the dataset. Group other categories in one. What is the size of the dummy vector for ORGANIZATION_TYPE after this transformation?\n",
        "\n",
        "\n",
        "8: **In app_test, app_past and bureau,** transform all the categorical columns that you have not processed in 7 using One-hot encoding.\n",
        "\n",
        "*You will be evaluated as follow*\n",
        "* 7: Description of the approach 4pts. Code 3pts.\n",
        "* 8: Correct approach + code 2pts."
      ]
    },
    {
      "cell_type": "code",
      "execution_count": 13,
      "metadata": {
        "id": "shlk_faurPh6"
      },
      "outputs": [],
      "source": [
        "##7a Transforming NAME_HOUSING_TYPE and CODE_GENDER\n",
        "from sklearn.preprocessing import LabelEncoder\n",
        "app_test_copy = app_test.copy()\n",
        "## For the NAME_HOUSING_TYPE column we can use one hot encoding to do this task\n",
        "app_test_copy['NAME_HOUSING_TYPE'].unique()\n",
        "# Perform one-hot encoding using Pandas\n",
        "one_hot_encoded = pd.get_dummies(app_test_copy, columns=['NAME_HOUSING_TYPE'],dtype=int)\n",
        "\n",
        "# For CODE_GENDER column since there is just two values we can change Male=0 and Female=1 or viceversa with label encoder\n",
        "label_encoder =  LabelEncoder()\n",
        "app_test_copy['CODE_GENDER'] = label_encoder.fit_transform(app_test_copy['CODE_GENDER'])"
      ]
    },
    {
      "cell_type": "code",
      "source": [
        "##7b NAME_HOUSING_TYPE for only 3 categories\n",
        "# app_test_copy = app_test.copy()\n",
        "\n",
        "# app_test_copy['NAME_HOUSING_TYPE'].value_counts()\n",
        "\n",
        "## Encoding FLAG_OWN_CAR\n",
        "app_test_copy['FLAG_OWN_CAR'] = label_encoder.fit_transform(app_test_copy['FLAG_OWN_CAR'])\n",
        "app_test_copy['FLAG_OWN_CAR'].unique()"
      ],
      "metadata": {
        "id": "jL7tFimSksbs",
        "outputId": "ba9ef750-03b8-4c78-84a3-4b687bba4084",
        "colab": {
          "base_uri": "https://localhost:8080/"
        }
      },
      "execution_count": 14,
      "outputs": [
        {
          "output_type": "execute_result",
          "data": {
            "text/plain": [
              "array([0, 1])"
            ]
          },
          "metadata": {},
          "execution_count": 14
        }
      ]
    },
    {
      "cell_type": "code",
      "source": [
        "## 7c\n",
        "threshold = 0.1\n",
        "count_threshold = len(app_test_copy) * threshold\n",
        "print(count_threshold)\n",
        "\n",
        "## Checking which of the features meet the threshold\n",
        "category_counts = app_test_copy['ORGANIZATION_TYPE'].value_counts()\n",
        "valid_categories = category_counts[category_counts > count_threshold].index\n",
        "\n",
        "app_test_copy['ORGANIZATION_TYPE'] = app_test_copy['ORGANIZATION_TYPE'].apply(lambda x: x if x in valid_categories else 'Other')\n",
        "\n",
        "dummy_vector = pd.get_dummies(app_test_copy['ORGANIZATION_TYPE'], prefix = 'ORG', dtype=int)\n",
        "print(f'Dummy shape: {dummy_vector.shape}')\n",
        "\n"
      ],
      "metadata": {
        "id": "COHcMKKRnCUA",
        "outputId": "7edd0bc4-1a74-4d25-fd98-73e1cb0631b4",
        "colab": {
          "base_uri": "https://localhost:8080/"
        }
      },
      "execution_count": 15,
      "outputs": [
        {
          "output_type": "stream",
          "name": "stdout",
          "text": [
            "4874.400000000001\n",
            "Dummy shape: (48744, 4)\n"
          ]
        }
      ]
    },
    {
      "cell_type": "code",
      "source": [
        "## 8 app_test, app_past, bureau\n",
        "app_test_copy = app_test.copy()\n",
        "app_past_copy = prev_app.copy()\n",
        "bureau_copy = bureau.copy()\n",
        "\n",
        "categorical_cols_appTest = app_test_copy.select_dtypes(include=['object']).columns\n",
        "categorical_cols_appPast = app_past_copy.select_dtypes(include=['object']).columns\n",
        "categorical_cols_bureau = bureau_copy.select_dtypes(include=['object']).columns\n",
        "\n",
        "one_hot_encoded_appTest = pd.get_dummies(app_test_copy, columns=categorical_cols_appTest, dtype=int)\n",
        "one_hot_encoded_appPast = pd.get_dummies(app_past_copy, columns=categorical_cols_appPast, dtype=int)\n",
        "one_hot_encoded_bureau = pd.get_dummies(bureau_copy, columns=categorical_cols_bureau, dtype=int)"
      ],
      "metadata": {
        "id": "4e1y_jUIpGey"
      },
      "execution_count": 16,
      "outputs": []
    },
    {
      "cell_type": "code",
      "source": [
        "one_hot_encoded_appTest.head()"
      ],
      "metadata": {
        "id": "V1YzmT94uddf",
        "outputId": "cdace8d3-fc47-4bae-a39e-1119b45e137a",
        "colab": {
          "base_uri": "https://localhost:8080/",
          "height": 273
        }
      },
      "execution_count": 17,
      "outputs": [
        {
          "output_type": "execute_result",
          "data": {
            "text/plain": [
              "   SK_ID_CURR  CNT_CHILDREN  AMT_INCOME_TOTAL  AMT_CREDIT  AMT_ANNUITY  \\\n",
              "0      100001             0          135000.0    568800.0      20560.5   \n",
              "1      100005             0           99000.0    222768.0      17370.0   \n",
              "2      100013             0          202500.0    663264.0      69777.0   \n",
              "3      100028             2          315000.0   1575000.0      49018.5   \n",
              "4      100038             1          180000.0    625500.0      32067.0   \n",
              "\n",
              "   AMT_GOODS_PRICE  REGION_POPULATION_RELATIVE  DAYS_BIRTH  DAYS_EMPLOYED  \\\n",
              "0         450000.0                    0.018850      -19241          -2329   \n",
              "1         180000.0                    0.035792      -18064          -4469   \n",
              "2         630000.0                    0.019101      -20038          -4458   \n",
              "3        1575000.0                    0.026392      -13976          -1866   \n",
              "4         625500.0                    0.010032      -13040          -2191   \n",
              "\n",
              "   DAYS_REGISTRATION  ...  WALLSMATERIAL_MODE_Mixed  \\\n",
              "0            -5170.0  ...                         0   \n",
              "1            -9118.0  ...                         0   \n",
              "2            -2175.0  ...                         0   \n",
              "3            -2000.0  ...                         0   \n",
              "4            -4000.0  ...                         0   \n",
              "\n",
              "   WALLSMATERIAL_MODE_Monolithic  WALLSMATERIAL_MODE_Others  \\\n",
              "0                              0                          0   \n",
              "1                              0                          0   \n",
              "2                              0                          0   \n",
              "3                              0                          0   \n",
              "4                              0                          0   \n",
              "\n",
              "   WALLSMATERIAL_MODE_Panel  WALLSMATERIAL_MODE_Stone, brick  \\\n",
              "0                         0                                1   \n",
              "1                         0                                0   \n",
              "2                         0                                0   \n",
              "3                         1                                0   \n",
              "4                         0                                0   \n",
              "\n",
              "   WALLSMATERIAL_MODE_Wooden  WALLSMATERIAL_MODE_not specified  \\\n",
              "0                          0                                 0   \n",
              "1                          0                                 1   \n",
              "2                          0                                 1   \n",
              "3                          0                                 0   \n",
              "4                          0                                 1   \n",
              "\n",
              "   EMERGENCYSTATE_MODE_No  EMERGENCYSTATE_MODE_Yes  \\\n",
              "0                       1                        0   \n",
              "1                       0                        0   \n",
              "2                       0                        0   \n",
              "3                       1                        0   \n",
              "4                       0                        0   \n",
              "\n",
              "   EMERGENCYSTATE_MODE_not specified  \n",
              "0                                  0  \n",
              "1                                  1  \n",
              "2                                  1  \n",
              "3                                  0  \n",
              "4                                  1  \n",
              "\n",
              "[5 rows x 247 columns]"
            ],
            "text/html": [
              "\n",
              "  <div id=\"df-2477e43c-2027-4924-9687-dac86dc42146\" class=\"colab-df-container\">\n",
              "    <div>\n",
              "<style scoped>\n",
              "    .dataframe tbody tr th:only-of-type {\n",
              "        vertical-align: middle;\n",
              "    }\n",
              "\n",
              "    .dataframe tbody tr th {\n",
              "        vertical-align: top;\n",
              "    }\n",
              "\n",
              "    .dataframe thead th {\n",
              "        text-align: right;\n",
              "    }\n",
              "</style>\n",
              "<table border=\"1\" class=\"dataframe\">\n",
              "  <thead>\n",
              "    <tr style=\"text-align: right;\">\n",
              "      <th></th>\n",
              "      <th>SK_ID_CURR</th>\n",
              "      <th>CNT_CHILDREN</th>\n",
              "      <th>AMT_INCOME_TOTAL</th>\n",
              "      <th>AMT_CREDIT</th>\n",
              "      <th>AMT_ANNUITY</th>\n",
              "      <th>AMT_GOODS_PRICE</th>\n",
              "      <th>REGION_POPULATION_RELATIVE</th>\n",
              "      <th>DAYS_BIRTH</th>\n",
              "      <th>DAYS_EMPLOYED</th>\n",
              "      <th>DAYS_REGISTRATION</th>\n",
              "      <th>...</th>\n",
              "      <th>WALLSMATERIAL_MODE_Mixed</th>\n",
              "      <th>WALLSMATERIAL_MODE_Monolithic</th>\n",
              "      <th>WALLSMATERIAL_MODE_Others</th>\n",
              "      <th>WALLSMATERIAL_MODE_Panel</th>\n",
              "      <th>WALLSMATERIAL_MODE_Stone, brick</th>\n",
              "      <th>WALLSMATERIAL_MODE_Wooden</th>\n",
              "      <th>WALLSMATERIAL_MODE_not specified</th>\n",
              "      <th>EMERGENCYSTATE_MODE_No</th>\n",
              "      <th>EMERGENCYSTATE_MODE_Yes</th>\n",
              "      <th>EMERGENCYSTATE_MODE_not specified</th>\n",
              "    </tr>\n",
              "  </thead>\n",
              "  <tbody>\n",
              "    <tr>\n",
              "      <th>0</th>\n",
              "      <td>100001</td>\n",
              "      <td>0</td>\n",
              "      <td>135000.0</td>\n",
              "      <td>568800.0</td>\n",
              "      <td>20560.5</td>\n",
              "      <td>450000.0</td>\n",
              "      <td>0.018850</td>\n",
              "      <td>-19241</td>\n",
              "      <td>-2329</td>\n",
              "      <td>-5170.0</td>\n",
              "      <td>...</td>\n",
              "      <td>0</td>\n",
              "      <td>0</td>\n",
              "      <td>0</td>\n",
              "      <td>0</td>\n",
              "      <td>1</td>\n",
              "      <td>0</td>\n",
              "      <td>0</td>\n",
              "      <td>1</td>\n",
              "      <td>0</td>\n",
              "      <td>0</td>\n",
              "    </tr>\n",
              "    <tr>\n",
              "      <th>1</th>\n",
              "      <td>100005</td>\n",
              "      <td>0</td>\n",
              "      <td>99000.0</td>\n",
              "      <td>222768.0</td>\n",
              "      <td>17370.0</td>\n",
              "      <td>180000.0</td>\n",
              "      <td>0.035792</td>\n",
              "      <td>-18064</td>\n",
              "      <td>-4469</td>\n",
              "      <td>-9118.0</td>\n",
              "      <td>...</td>\n",
              "      <td>0</td>\n",
              "      <td>0</td>\n",
              "      <td>0</td>\n",
              "      <td>0</td>\n",
              "      <td>0</td>\n",
              "      <td>0</td>\n",
              "      <td>1</td>\n",
              "      <td>0</td>\n",
              "      <td>0</td>\n",
              "      <td>1</td>\n",
              "    </tr>\n",
              "    <tr>\n",
              "      <th>2</th>\n",
              "      <td>100013</td>\n",
              "      <td>0</td>\n",
              "      <td>202500.0</td>\n",
              "      <td>663264.0</td>\n",
              "      <td>69777.0</td>\n",
              "      <td>630000.0</td>\n",
              "      <td>0.019101</td>\n",
              "      <td>-20038</td>\n",
              "      <td>-4458</td>\n",
              "      <td>-2175.0</td>\n",
              "      <td>...</td>\n",
              "      <td>0</td>\n",
              "      <td>0</td>\n",
              "      <td>0</td>\n",
              "      <td>0</td>\n",
              "      <td>0</td>\n",
              "      <td>0</td>\n",
              "      <td>1</td>\n",
              "      <td>0</td>\n",
              "      <td>0</td>\n",
              "      <td>1</td>\n",
              "    </tr>\n",
              "    <tr>\n",
              "      <th>3</th>\n",
              "      <td>100028</td>\n",
              "      <td>2</td>\n",
              "      <td>315000.0</td>\n",
              "      <td>1575000.0</td>\n",
              "      <td>49018.5</td>\n",
              "      <td>1575000.0</td>\n",
              "      <td>0.026392</td>\n",
              "      <td>-13976</td>\n",
              "      <td>-1866</td>\n",
              "      <td>-2000.0</td>\n",
              "      <td>...</td>\n",
              "      <td>0</td>\n",
              "      <td>0</td>\n",
              "      <td>0</td>\n",
              "      <td>1</td>\n",
              "      <td>0</td>\n",
              "      <td>0</td>\n",
              "      <td>0</td>\n",
              "      <td>1</td>\n",
              "      <td>0</td>\n",
              "      <td>0</td>\n",
              "    </tr>\n",
              "    <tr>\n",
              "      <th>4</th>\n",
              "      <td>100038</td>\n",
              "      <td>1</td>\n",
              "      <td>180000.0</td>\n",
              "      <td>625500.0</td>\n",
              "      <td>32067.0</td>\n",
              "      <td>625500.0</td>\n",
              "      <td>0.010032</td>\n",
              "      <td>-13040</td>\n",
              "      <td>-2191</td>\n",
              "      <td>-4000.0</td>\n",
              "      <td>...</td>\n",
              "      <td>0</td>\n",
              "      <td>0</td>\n",
              "      <td>0</td>\n",
              "      <td>0</td>\n",
              "      <td>0</td>\n",
              "      <td>0</td>\n",
              "      <td>1</td>\n",
              "      <td>0</td>\n",
              "      <td>0</td>\n",
              "      <td>1</td>\n",
              "    </tr>\n",
              "  </tbody>\n",
              "</table>\n",
              "<p>5 rows × 247 columns</p>\n",
              "</div>\n",
              "    <div class=\"colab-df-buttons\">\n",
              "\n",
              "  <div class=\"colab-df-container\">\n",
              "    <button class=\"colab-df-convert\" onclick=\"convertToInteractive('df-2477e43c-2027-4924-9687-dac86dc42146')\"\n",
              "            title=\"Convert this dataframe to an interactive table.\"\n",
              "            style=\"display:none;\">\n",
              "\n",
              "  <svg xmlns=\"http://www.w3.org/2000/svg\" height=\"24px\" viewBox=\"0 -960 960 960\">\n",
              "    <path d=\"M120-120v-720h720v720H120Zm60-500h600v-160H180v160Zm220 220h160v-160H400v160Zm0 220h160v-160H400v160ZM180-400h160v-160H180v160Zm440 0h160v-160H620v160ZM180-180h160v-160H180v160Zm440 0h160v-160H620v160Z\"/>\n",
              "  </svg>\n",
              "    </button>\n",
              "\n",
              "  <style>\n",
              "    .colab-df-container {\n",
              "      display:flex;\n",
              "      gap: 12px;\n",
              "    }\n",
              "\n",
              "    .colab-df-convert {\n",
              "      background-color: #E8F0FE;\n",
              "      border: none;\n",
              "      border-radius: 50%;\n",
              "      cursor: pointer;\n",
              "      display: none;\n",
              "      fill: #1967D2;\n",
              "      height: 32px;\n",
              "      padding: 0 0 0 0;\n",
              "      width: 32px;\n",
              "    }\n",
              "\n",
              "    .colab-df-convert:hover {\n",
              "      background-color: #E2EBFA;\n",
              "      box-shadow: 0px 1px 2px rgba(60, 64, 67, 0.3), 0px 1px 3px 1px rgba(60, 64, 67, 0.15);\n",
              "      fill: #174EA6;\n",
              "    }\n",
              "\n",
              "    .colab-df-buttons div {\n",
              "      margin-bottom: 4px;\n",
              "    }\n",
              "\n",
              "    [theme=dark] .colab-df-convert {\n",
              "      background-color: #3B4455;\n",
              "      fill: #D2E3FC;\n",
              "    }\n",
              "\n",
              "    [theme=dark] .colab-df-convert:hover {\n",
              "      background-color: #434B5C;\n",
              "      box-shadow: 0px 1px 3px 1px rgba(0, 0, 0, 0.15);\n",
              "      filter: drop-shadow(0px 1px 2px rgba(0, 0, 0, 0.3));\n",
              "      fill: #FFFFFF;\n",
              "    }\n",
              "  </style>\n",
              "\n",
              "    <script>\n",
              "      const buttonEl =\n",
              "        document.querySelector('#df-2477e43c-2027-4924-9687-dac86dc42146 button.colab-df-convert');\n",
              "      buttonEl.style.display =\n",
              "        google.colab.kernel.accessAllowed ? 'block' : 'none';\n",
              "\n",
              "      async function convertToInteractive(key) {\n",
              "        const element = document.querySelector('#df-2477e43c-2027-4924-9687-dac86dc42146');\n",
              "        const dataTable =\n",
              "          await google.colab.kernel.invokeFunction('convertToInteractive',\n",
              "                                                    [key], {});\n",
              "        if (!dataTable) return;\n",
              "\n",
              "        const docLinkHtml = 'Like what you see? Visit the ' +\n",
              "          '<a target=\"_blank\" href=https://colab.research.google.com/notebooks/data_table.ipynb>data table notebook</a>'\n",
              "          + ' to learn more about interactive tables.';\n",
              "        element.innerHTML = '';\n",
              "        dataTable['output_type'] = 'display_data';\n",
              "        await google.colab.output.renderOutput(dataTable, element);\n",
              "        const docLink = document.createElement('div');\n",
              "        docLink.innerHTML = docLinkHtml;\n",
              "        element.appendChild(docLink);\n",
              "      }\n",
              "    </script>\n",
              "  </div>\n",
              "\n",
              "\n",
              "<div id=\"df-54d3a327-80fd-468b-ade1-789413040276\">\n",
              "  <button class=\"colab-df-quickchart\" onclick=\"quickchart('df-54d3a327-80fd-468b-ade1-789413040276')\"\n",
              "            title=\"Suggest charts\"\n",
              "            style=\"display:none;\">\n",
              "\n",
              "<svg xmlns=\"http://www.w3.org/2000/svg\" height=\"24px\"viewBox=\"0 0 24 24\"\n",
              "     width=\"24px\">\n",
              "    <g>\n",
              "        <path d=\"M19 3H5c-1.1 0-2 .9-2 2v14c0 1.1.9 2 2 2h14c1.1 0 2-.9 2-2V5c0-1.1-.9-2-2-2zM9 17H7v-7h2v7zm4 0h-2V7h2v10zm4 0h-2v-4h2v4z\"/>\n",
              "    </g>\n",
              "</svg>\n",
              "  </button>\n",
              "\n",
              "<style>\n",
              "  .colab-df-quickchart {\n",
              "      --bg-color: #E8F0FE;\n",
              "      --fill-color: #1967D2;\n",
              "      --hover-bg-color: #E2EBFA;\n",
              "      --hover-fill-color: #174EA6;\n",
              "      --disabled-fill-color: #AAA;\n",
              "      --disabled-bg-color: #DDD;\n",
              "  }\n",
              "\n",
              "  [theme=dark] .colab-df-quickchart {\n",
              "      --bg-color: #3B4455;\n",
              "      --fill-color: #D2E3FC;\n",
              "      --hover-bg-color: #434B5C;\n",
              "      --hover-fill-color: #FFFFFF;\n",
              "      --disabled-bg-color: #3B4455;\n",
              "      --disabled-fill-color: #666;\n",
              "  }\n",
              "\n",
              "  .colab-df-quickchart {\n",
              "    background-color: var(--bg-color);\n",
              "    border: none;\n",
              "    border-radius: 50%;\n",
              "    cursor: pointer;\n",
              "    display: none;\n",
              "    fill: var(--fill-color);\n",
              "    height: 32px;\n",
              "    padding: 0;\n",
              "    width: 32px;\n",
              "  }\n",
              "\n",
              "  .colab-df-quickchart:hover {\n",
              "    background-color: var(--hover-bg-color);\n",
              "    box-shadow: 0 1px 2px rgba(60, 64, 67, 0.3), 0 1px 3px 1px rgba(60, 64, 67, 0.15);\n",
              "    fill: var(--button-hover-fill-color);\n",
              "  }\n",
              "\n",
              "  .colab-df-quickchart-complete:disabled,\n",
              "  .colab-df-quickchart-complete:disabled:hover {\n",
              "    background-color: var(--disabled-bg-color);\n",
              "    fill: var(--disabled-fill-color);\n",
              "    box-shadow: none;\n",
              "  }\n",
              "\n",
              "  .colab-df-spinner {\n",
              "    border: 2px solid var(--fill-color);\n",
              "    border-color: transparent;\n",
              "    border-bottom-color: var(--fill-color);\n",
              "    animation:\n",
              "      spin 1s steps(1) infinite;\n",
              "  }\n",
              "\n",
              "  @keyframes spin {\n",
              "    0% {\n",
              "      border-color: transparent;\n",
              "      border-bottom-color: var(--fill-color);\n",
              "      border-left-color: var(--fill-color);\n",
              "    }\n",
              "    20% {\n",
              "      border-color: transparent;\n",
              "      border-left-color: var(--fill-color);\n",
              "      border-top-color: var(--fill-color);\n",
              "    }\n",
              "    30% {\n",
              "      border-color: transparent;\n",
              "      border-left-color: var(--fill-color);\n",
              "      border-top-color: var(--fill-color);\n",
              "      border-right-color: var(--fill-color);\n",
              "    }\n",
              "    40% {\n",
              "      border-color: transparent;\n",
              "      border-right-color: var(--fill-color);\n",
              "      border-top-color: var(--fill-color);\n",
              "    }\n",
              "    60% {\n",
              "      border-color: transparent;\n",
              "      border-right-color: var(--fill-color);\n",
              "    }\n",
              "    80% {\n",
              "      border-color: transparent;\n",
              "      border-right-color: var(--fill-color);\n",
              "      border-bottom-color: var(--fill-color);\n",
              "    }\n",
              "    90% {\n",
              "      border-color: transparent;\n",
              "      border-bottom-color: var(--fill-color);\n",
              "    }\n",
              "  }\n",
              "</style>\n",
              "\n",
              "  <script>\n",
              "    async function quickchart(key) {\n",
              "      const quickchartButtonEl =\n",
              "        document.querySelector('#' + key + ' button');\n",
              "      quickchartButtonEl.disabled = true;  // To prevent multiple clicks.\n",
              "      quickchartButtonEl.classList.add('colab-df-spinner');\n",
              "      try {\n",
              "        const charts = await google.colab.kernel.invokeFunction(\n",
              "            'suggestCharts', [key], {});\n",
              "      } catch (error) {\n",
              "        console.error('Error during call to suggestCharts:', error);\n",
              "      }\n",
              "      quickchartButtonEl.classList.remove('colab-df-spinner');\n",
              "      quickchartButtonEl.classList.add('colab-df-quickchart-complete');\n",
              "    }\n",
              "    (() => {\n",
              "      let quickchartButtonEl =\n",
              "        document.querySelector('#df-54d3a327-80fd-468b-ade1-789413040276 button');\n",
              "      quickchartButtonEl.style.display =\n",
              "        google.colab.kernel.accessAllowed ? 'block' : 'none';\n",
              "    })();\n",
              "  </script>\n",
              "</div>\n",
              "\n",
              "    </div>\n",
              "  </div>\n"
            ],
            "application/vnd.google.colaboratory.intrinsic+json": {
              "type": "dataframe",
              "variable_name": "one_hot_encoded_appTest"
            }
          },
          "metadata": {},
          "execution_count": 17
        }
      ]
    },
    {
      "cell_type": "markdown",
      "metadata": {
        "id": "ufWJR8ScnHb4"
      },
      "source": [
        "<h2>Anomalies (7 pts)</h2>\n",
        "\n",
        "**In app_test**\n",
        "\n",
        "**9a**: Is there an anomaly with the column DEF_30_CNT_SOCIAL_CIRCLE? If so, how would you solve it?\n",
        "\n",
        "**9b**: Is there an anomaly with the column LANDAREA_AVG? If so, how would you solve it?\n",
        "\n",
        "**9c**: Is there an anomaly with the column AMT_INCOME_TOTAL? If so, how would you solve it?\n",
        "\n",
        "10: Fix the anomaly in DAYS_EMPLOYED?\n",
        "\n",
        "*You will be evaluated as follow*\n",
        "* 9: Description of the approach + code 5pts.\n",
        "* 10: code 2pts"
      ]
    },
    {
      "cell_type": "code",
      "execution_count": 31,
      "metadata": {
        "id": "I5TcZk8Q5jQ-",
        "colab": {
          "base_uri": "https://localhost:8080/",
          "height": 567
        },
        "outputId": "c04d283d-0512-4ac4-c181-7b75f176bd5f"
      },
      "outputs": [
        {
          "output_type": "stream",
          "name": "stdout",
          "text": [
            "float64\n",
            "[ 0.  1.  2.  3.  4.  5.  6. 34.]\n",
            "DEF_30_CNT_SOCIAL_CIRCLE\n",
            "0.0     43224\n",
            "1.0      4443\n",
            "2.0       834\n",
            "3.0       189\n",
            "4.0        40\n",
            "5.0         8\n",
            "6.0         3\n",
            "34.0        3\n",
            "Name: count, dtype: int64\n"
          ]
        },
        {
          "output_type": "execute_result",
          "data": {
            "text/plain": [
              "count    48744.000000\n",
              "mean         0.143566\n",
              "std          0.514272\n",
              "min          0.000000\n",
              "25%          0.000000\n",
              "50%          0.000000\n",
              "75%          0.000000\n",
              "max         34.000000\n",
              "Name: DEF_30_CNT_SOCIAL_CIRCLE, dtype: float64"
            ],
            "text/html": [
              "<div>\n",
              "<style scoped>\n",
              "    .dataframe tbody tr th:only-of-type {\n",
              "        vertical-align: middle;\n",
              "    }\n",
              "\n",
              "    .dataframe tbody tr th {\n",
              "        vertical-align: top;\n",
              "    }\n",
              "\n",
              "    .dataframe thead th {\n",
              "        text-align: right;\n",
              "    }\n",
              "</style>\n",
              "<table border=\"1\" class=\"dataframe\">\n",
              "  <thead>\n",
              "    <tr style=\"text-align: right;\">\n",
              "      <th></th>\n",
              "      <th>DEF_30_CNT_SOCIAL_CIRCLE</th>\n",
              "    </tr>\n",
              "  </thead>\n",
              "  <tbody>\n",
              "    <tr>\n",
              "      <th>count</th>\n",
              "      <td>48744.000000</td>\n",
              "    </tr>\n",
              "    <tr>\n",
              "      <th>mean</th>\n",
              "      <td>0.143566</td>\n",
              "    </tr>\n",
              "    <tr>\n",
              "      <th>std</th>\n",
              "      <td>0.514272</td>\n",
              "    </tr>\n",
              "    <tr>\n",
              "      <th>min</th>\n",
              "      <td>0.000000</td>\n",
              "    </tr>\n",
              "    <tr>\n",
              "      <th>25%</th>\n",
              "      <td>0.000000</td>\n",
              "    </tr>\n",
              "    <tr>\n",
              "      <th>50%</th>\n",
              "      <td>0.000000</td>\n",
              "    </tr>\n",
              "    <tr>\n",
              "      <th>75%</th>\n",
              "      <td>0.000000</td>\n",
              "    </tr>\n",
              "    <tr>\n",
              "      <th>max</th>\n",
              "      <td>34.000000</td>\n",
              "    </tr>\n",
              "  </tbody>\n",
              "</table>\n",
              "</div><br><label><b>dtype:</b> float64</label>"
            ]
          },
          "metadata": {},
          "execution_count": 31
        }
      ],
      "source": [
        "## Your code here\n",
        "## 9a Check anomalies on DEF_30_CNT_SOCIAL_CIRCLE\n",
        "app_test_copy = app_test.copy()\n",
        "print(app_test_copy.dtypes['DEF_30_CNT_SOCIAL_CIRCLE'])\n",
        "print(app_test_copy['DEF_30_CNT_SOCIAL_CIRCLE'].unique())\n",
        "print(app_test_copy['DEF_30_CNT_SOCIAL_CIRCLE'].value_counts())\n",
        "app_test_copy['DEF_30_CNT_SOCIAL_CIRCLE'].describe()\n"
      ]
    },
    {
      "cell_type": "markdown",
      "source": [
        "We can detect anomalies seeing them on an histogram or a boxplot, but sometimes is not easy to see them, then above we can see that there are outliers on our dataset, having 3 datapoints with a high value of 34 and a lot of data points with 0 as a value"
      ],
      "metadata": {
        "id": "2Fp2CiNBOgy6"
      }
    },
    {
      "cell_type": "code",
      "source": [
        "import matplotlib.pyplot as plt\n",
        "import seaborn as sns\n",
        "\n",
        "# Histogram\n",
        "plt.figure(figsize=(10,6))\n",
        "sns.histplot(app_test_copy['DEF_30_CNT_SOCIAL_CIRCLE'], bins=100)\n",
        "plt.title('Distribution of DEF_30_CNT_SOCIAL_CIRCLE')\n",
        "plt.show()\n",
        "\n",
        "# Boxplot\n",
        "plt.figure(figsize=(10,6))\n",
        "sns.boxplot(app_test_copy['DEF_30_CNT_SOCIAL_CIRCLE'], showmeans = True)\n",
        "plt.title('Boxplot of DEF_30_CNT_SOCIAL_CIRCLE')\n",
        "plt.show()\n"
      ],
      "metadata": {
        "colab": {
          "base_uri": "https://localhost:8080/",
          "height": 1000
        },
        "id": "-vvlICtFJnFk",
        "outputId": "08cfac6e-3178-4fe5-f927-2f02f74f743a"
      },
      "execution_count": 32,
      "outputs": [
        {
          "output_type": "display_data",
          "data": {
            "text/plain": [
              "<Figure size 1000x600 with 1 Axes>"
            ],
            "image/png": "[encoded data removed]"
          },
          "metadata": {}
        },
        {
          "output_type": "stream",
          "name": "stderr",
          "text": [
            "/usr/local/lib/python3.10/dist-packages/seaborn/categorical.py:640: FutureWarning: SeriesGroupBy.grouper is deprecated and will be removed in a future version of pandas.\n",
            "  positions = grouped.grouper.result_index.to_numpy(dtype=float)\n"
          ]
        },
        {
          "output_type": "display_data",
          "data": {
            "text/plain": [
              "<Figure size 1000x600 with 1 Axes>"
            ],
            "image/png": "[encoded data removed]"
          },
          "metadata": {}
        }
      ]
    },
    {
      "cell_type": "markdown",
      "source": [
        "We can also detect anomalies with a Z-Score calculation, this can give us an idea where are the anomalies."
      ],
      "metadata": {
        "id": "RRsVdh2QPAOl"
      }
    },
    {
      "cell_type": "code",
      "source": [
        "# Z-score calculation\n",
        "z_scores = np.abs(stats.zscore(app_test_copy['DEF_30_CNT_SOCIAL_CIRCLE']))\n",
        "\n",
        "# Threshold for anomaly\n",
        "threshold = 3\n",
        "anomalies = app_test_copy[z_scores > threshold]\n",
        "\n",
        "print(\"Anomalies detected using Z-score:\")\n",
        "print(anomalies['DEF_30_CNT_SOCIAL_CIRCLE'])"
      ],
      "metadata": {
        "colab": {
          "base_uri": "https://localhost:8080/"
        },
        "id": "RcIm_0BvGqea",
        "outputId": "5d64de49-82e4-4174-9ef1-4f6795282d04"
      },
      "execution_count": 33,
      "outputs": [
        {
          "output_type": "stream",
          "name": "stdout",
          "text": [
            "Anomalies detected using Z-score:\n",
            "25       2.0\n",
            "111      3.0\n",
            "123      2.0\n",
            "138      3.0\n",
            "213      2.0\n",
            "        ... \n",
            "48464    2.0\n",
            "48486    2.0\n",
            "48495    2.0\n",
            "48566    3.0\n",
            "48628    2.0\n",
            "Name: DEF_30_CNT_SOCIAL_CIRCLE, Length: 1077, dtype: float64\n"
          ]
        }
      ]
    },
    {
      "cell_type": "markdown",
      "source": [
        "Another method we can use is the inter quantile data."
      ],
      "metadata": {
        "id": "qCkm7eMbPMq-"
      }
    },
    {
      "cell_type": "code",
      "source": [
        "Q1 = app_test_copy['DEF_30_CNT_SOCIAL_CIRCLE'].quantile(0.25)\n",
        "Q3 = app_test_copy['DEF_30_CNT_SOCIAL_CIRCLE'].quantile(0.75)\n",
        "IQR = Q3 - Q1\n",
        "\n",
        "# Defining bounds\n",
        "lower_bound = Q1 - 1.5 * IQR\n",
        "upper_bound = Q3 + 1.5 * IQR\n",
        "\n",
        "# Finding outliers\n",
        "anomalies = app_test_copy[(app_test_copy['DEF_30_CNT_SOCIAL_CIRCLE'] < lower_bound) | (app_test_copy['DEF_30_CNT_SOCIAL_CIRCLE'] > upper_bound)]\n",
        "\n",
        "print(\"Anomalies detected using IQR:\")\n",
        "print(anomalies['DEF_30_CNT_SOCIAL_CIRCLE'])\n"
      ],
      "metadata": {
        "colab": {
          "base_uri": "https://localhost:8080/"
        },
        "id": "OHU3tn2fLgoQ",
        "outputId": "3b1a48ee-76e0-4951-f4f1-5b6608f3912c"
      },
      "execution_count": 34,
      "outputs": [
        {
          "output_type": "stream",
          "name": "stdout",
          "text": [
            "Anomalies detected using IQR:\n",
            "12       1.0\n",
            "25       2.0\n",
            "27       1.0\n",
            "37       1.0\n",
            "56       1.0\n",
            "        ... \n",
            "48566    3.0\n",
            "48628    2.0\n",
            "48676    1.0\n",
            "48702    1.0\n",
            "48714    1.0\n",
            "Name: DEF_30_CNT_SOCIAL_CIRCLE, Length: 5520, dtype: float64\n"
          ]
        }
      ]
    },
    {
      "cell_type": "markdown",
      "source": [
        "Detect the anomalies uding the Isolation forest technic"
      ],
      "metadata": {
        "id": "4mChNiG9T_tw"
      }
    },
    {
      "cell_type": "code",
      "source": [
        "from sklearn.ensemble import IsolationForest\n",
        "\n",
        "# Initialize Isolation Forest\n",
        "isolation_forest = IsolationForest(contamination=0.01)\n",
        "\n",
        "# Fit and predict anomalies (-1 means anomaly, 1 means normal)\n",
        "app_test_copy['anomaly'] = isolation_forest.fit_predict(app_test_copy[['DEF_30_CNT_SOCIAL_CIRCLE']])\n",
        "\n",
        "# Filter out anomalies\n",
        "anomalies = app_test_copy[app_test_copy['anomaly'] == -1]\n",
        "\n",
        "print(\"Anomalies detected using Isolation Forest:\")\n",
        "anomalies['DEF_30_CNT_SOCIAL_CIRCLE']\n"
      ],
      "metadata": {
        "colab": {
          "base_uri": "https://localhost:8080/",
          "height": 496
        },
        "id": "fGzQAs_9T_8Q",
        "outputId": "d7800b97-6167-4970-af0f-4f92ceb3378a"
      },
      "execution_count": 35,
      "outputs": [
        {
          "output_type": "stream",
          "name": "stdout",
          "text": [
            "Anomalies detected using Isolation Forest:\n"
          ]
        },
        {
          "output_type": "execute_result",
          "data": {
            "text/plain": [
              "111      3.0\n",
              "138      3.0\n",
              "222      4.0\n",
              "329      3.0\n",
              "342      3.0\n",
              "        ... \n",
              "47815    3.0\n",
              "47892    3.0\n",
              "48155    3.0\n",
              "48374    3.0\n",
              "48566    3.0\n",
              "Name: DEF_30_CNT_SOCIAL_CIRCLE, Length: 243, dtype: float64"
            ],
            "text/html": [
              "<div>\n",
              "<style scoped>\n",
              "    .dataframe tbody tr th:only-of-type {\n",
              "        vertical-align: middle;\n",
              "    }\n",
              "\n",
              "    .dataframe tbody tr th {\n",
              "        vertical-align: top;\n",
              "    }\n",
              "\n",
              "    .dataframe thead th {\n",
              "        text-align: right;\n",
              "    }\n",
              "</style>\n",
              "<table border=\"1\" class=\"dataframe\">\n",
              "  <thead>\n",
              "    <tr style=\"text-align: right;\">\n",
              "      <th></th>\n",
              "      <th>DEF_30_CNT_SOCIAL_CIRCLE</th>\n",
              "    </tr>\n",
              "  </thead>\n",
              "  <tbody>\n",
              "    <tr>\n",
              "      <th>111</th>\n",
              "      <td>3.0</td>\n",
              "    </tr>\n",
              "    <tr>\n",
              "      <th>138</th>\n",
              "      <td>3.0</td>\n",
              "    </tr>\n",
              "    <tr>\n",
              "      <th>222</th>\n",
              "      <td>4.0</td>\n",
              "    </tr>\n",
              "    <tr>\n",
              "      <th>329</th>\n",
              "      <td>3.0</td>\n",
              "    </tr>\n",
              "    <tr>\n",
              "      <th>342</th>\n",
              "      <td>3.0</td>\n",
              "    </tr>\n",
              "    <tr>\n",
              "      <th>...</th>\n",
              "      <td>...</td>\n",
              "    </tr>\n",
              "    <tr>\n",
              "      <th>47815</th>\n",
              "      <td>3.0</td>\n",
              "    </tr>\n",
              "    <tr>\n",
              "      <th>47892</th>\n",
              "      <td>3.0</td>\n",
              "    </tr>\n",
              "    <tr>\n",
              "      <th>48155</th>\n",
              "      <td>3.0</td>\n",
              "    </tr>\n",
              "    <tr>\n",
              "      <th>48374</th>\n",
              "      <td>3.0</td>\n",
              "    </tr>\n",
              "    <tr>\n",
              "      <th>48566</th>\n",
              "      <td>3.0</td>\n",
              "    </tr>\n",
              "  </tbody>\n",
              "</table>\n",
              "<p>243 rows × 1 columns</p>\n",
              "</div><br><label><b>dtype:</b> float64</label>"
            ]
          },
          "metadata": {},
          "execution_count": 35
        }
      ]
    },
    {
      "cell_type": "markdown",
      "source": [
        "## How can we deal with the anomalies?\n",
        "\n",
        "We can apply one of this methods:\n",
        "\n",
        "*   Remove the anomalies\n",
        "*   Impute or replace the values\n",
        "*   Cap the anomalies\n",
        "*   Transform the data\n",
        "*   Flag and treat them separately\n",
        "\n"
      ],
      "metadata": {
        "id": "uYizlczvPVt4"
      }
    },
    {
      "cell_type": "code",
      "source": [
        "median = app_test_copy['DEF_30_CNT_SOCIAL_CIRCLE'].median()\n",
        "print(median)"
      ],
      "metadata": {
        "colab": {
          "base_uri": "https://localhost:8080/"
        },
        "id": "_pRbPV7ZSiAi",
        "outputId": "46f92282-20e5-4b74-caa9-21fd2291579a"
      },
      "execution_count": 36,
      "outputs": [
        {
          "output_type": "stream",
          "name": "stdout",
          "text": [
            "0.0\n"
          ]
        }
      ]
    },
    {
      "cell_type": "code",
      "source": [
        "print(f'lower bound: {lower_bound} upper bound: {upper_bound}')"
      ],
      "metadata": {
        "colab": {
          "base_uri": "https://localhost:8080/"
        },
        "id": "j4bUnIv_S_ts",
        "outputId": "b9de71cc-f7cd-4d83-8bb7-2fdfff665593"
      },
      "execution_count": 37,
      "outputs": [
        {
          "output_type": "stream",
          "name": "stdout",
          "text": [
            "lower bound: 0.0 upper bound: 0.0\n"
          ]
        }
      ]
    },
    {
      "cell_type": "markdown",
      "source": [
        "Since the median and the quartiles are both 0 we can choose to transform or delete the data.\n",
        "\n",
        "First we will try with *TRANSFORMING* the data."
      ],
      "metadata": {
        "id": "M_CmRy4-VM5C"
      }
    },
    {
      "cell_type": "code",
      "source": [
        "app_test_copy_transformed = app_test_copy.copy()\n",
        "app_test_copy_transformed['DEF_30_CNT_SOCIAL_CIRCLE'] = np.log1p(app_test_copy['DEF_30_CNT_SOCIAL_CIRCLE'])\n",
        "\n",
        "# Histogram\n",
        "plt.figure(figsize=(10,6))\n",
        "sns.histplot(app_test_copy_transformed['DEF_30_CNT_SOCIAL_CIRCLE'], bins=100)\n",
        "plt.title('Distribution of DEF_30_CNT_SOCIAL_CIRCLE')\n",
        "plt.show()\n",
        "\n",
        "# Boxplot\n",
        "plt.figure(figsize=(10,6))\n",
        "sns.boxplot(app_test_copy_transformed['DEF_30_CNT_SOCIAL_CIRCLE'], showmeans = True)\n",
        "plt.title('Boxplot of DEF_30_CNT_SOCIAL_CIRCLE')\n",
        "plt.show()\n",
        "\n",
        "app_test_copy_transformed['DEF_30_CNT_SOCIAL_CIRCLE'].describe()"
      ],
      "metadata": {
        "colab": {
          "base_uri": "https://localhost:8080/",
          "height": 1000
        },
        "id": "V--VUBkRVJmJ",
        "outputId": "34bc6b3b-a09c-4da5-ef4c-090d33316226"
      },
      "execution_count": 48,
      "outputs": [
        {
          "output_type": "display_data",
          "data": {
            "text/plain": [
              "<Figure size 1000x600 with 1 Axes>"
            ],
            "image/png": "[encoded data removed]"
          },
          "metadata": {}
        },
        {
          "output_type": "stream",
          "name": "stderr",
          "text": [
            "/usr/local/lib/python3.10/dist-packages/seaborn/categorical.py:640: FutureWarning: SeriesGroupBy.grouper is deprecated and will be removed in a future version of pandas.\n",
            "  positions = grouped.grouper.result_index.to_numpy(dtype=float)\n"
          ]
        },
        {
          "output_type": "display_data",
          "data": {
            "text/plain": [
              "<Figure size 1000x600 with 1 Axes>"
            ],
            "image/png": "[encoded data removed]"
          },
          "metadata": {}
        },
        {
          "output_type": "execute_result",
          "data": {
            "text/plain": [
              "count    48744.000000\n",
              "mean         0.089306\n",
              "std          0.259971\n",
              "min          0.000000\n",
              "25%          0.000000\n",
              "50%          0.000000\n",
              "75%          0.000000\n",
              "max          3.555348\n",
              "Name: DEF_30_CNT_SOCIAL_CIRCLE, dtype: float64"
            ],
            "text/html": [
              "<div>\n",
              "<style scoped>\n",
              "    .dataframe tbody tr th:only-of-type {\n",
              "        vertical-align: middle;\n",
              "    }\n",
              "\n",
              "    .dataframe tbody tr th {\n",
              "        vertical-align: top;\n",
              "    }\n",
              "\n",
              "    .dataframe thead th {\n",
              "        text-align: right;\n",
              "    }\n",
              "</style>\n",
              "<table border=\"1\" class=\"dataframe\">\n",
              "  <thead>\n",
              "    <tr style=\"text-align: right;\">\n",
              "      <th></th>\n",
              "      <th>DEF_30_CNT_SOCIAL_CIRCLE</th>\n",
              "    </tr>\n",
              "  </thead>\n",
              "  <tbody>\n",
              "    <tr>\n",
              "      <th>count</th>\n",
              "      <td>48744.000000</td>\n",
              "    </tr>\n",
              "    <tr>\n",
              "      <th>mean</th>\n",
              "      <td>0.089306</td>\n",
              "    </tr>\n",
              "    <tr>\n",
              "      <th>std</th>\n",
              "      <td>0.259971</td>\n",
              "    </tr>\n",
              "    <tr>\n",
              "      <th>min</th>\n",
              "      <td>0.000000</td>\n",
              "    </tr>\n",
              "    <tr>\n",
              "      <th>25%</th>\n",
              "      <td>0.000000</td>\n",
              "    </tr>\n",
              "    <tr>\n",
              "      <th>50%</th>\n",
              "      <td>0.000000</td>\n",
              "    </tr>\n",
              "    <tr>\n",
              "      <th>75%</th>\n",
              "      <td>0.000000</td>\n",
              "    </tr>\n",
              "    <tr>\n",
              "      <th>max</th>\n",
              "      <td>3.555348</td>\n",
              "    </tr>\n",
              "  </tbody>\n",
              "</table>\n",
              "</div><br><label><b>dtype:</b> float64</label>"
            ]
          },
          "metadata": {},
          "execution_count": 48
        }
      ]
    },
    {
      "cell_type": "markdown",
      "source": [
        "*Deleting* the anomalies"
      ],
      "metadata": {
        "id": "C4enRK2oqTR2"
      }
    },
    {
      "cell_type": "code",
      "source": [
        "app_test_copy_cleaned = app_test_copy[app_test_copy['anomaly'] != 1]\n",
        "\n",
        "plt.figure(figsize=(10,6))\n",
        "sns.histplot(app_test_copy_cleaned['DEF_30_CNT_SOCIAL_CIRCLE'], bins=100)\n",
        "plt.title('Distribution of DEF_30_CNT_SOCIAL_CIRCLE')\n",
        "plt.show()\n",
        "\n",
        "# Boxplot\n",
        "plt.figure(figsize=(10,6))\n",
        "sns.boxplot(app_test_copy_cleaned['DEF_30_CNT_SOCIAL_CIRCLE'], showmeans = True)\n",
        "plt.title('Boxplot of DEF_30_CNT_SOCIAL_CIRCLE')\n",
        "plt.show()"
      ],
      "metadata": {
        "colab": {
          "base_uri": "https://localhost:8080/",
          "height": 1000
        },
        "id": "GyZiSVIupPdD",
        "outputId": "a60a8300-deb6-4705-f173-abad4c53a80a"
      },
      "execution_count": 45,
      "outputs": [
        {
          "output_type": "display_data",
          "data": {
            "text/plain": [
              "<Figure size 1000x600 with 1 Axes>"
            ],
            "image/png": "[encoded data removed]"
          },
          "metadata": {}
        },
        {
          "output_type": "stream",
          "name": "stderr",
          "text": [
            "/usr/local/lib/python3.10/dist-packages/seaborn/categorical.py:640: FutureWarning: SeriesGroupBy.grouper is deprecated and will be removed in a future version of pandas.\n",
            "  positions = grouped.grouper.result_index.to_numpy(dtype=float)\n"
          ]
        },
        {
          "output_type": "display_data",
          "data": {
            "text/plain": [
              "<Figure size 1000x600 with 1 Axes>"
            ],
            "image/png": "[encoded data removed]"
          },
          "metadata": {}
        }
      ]
    },
    {
      "cell_type": "code",
      "source": [
        "app_test_copy_cleaned['DEF_30_CNT_SOCIAL_CIRCLE'].value_counts()\n",
        "app_test_copy_cleaned['DEF_30_CNT_SOCIAL_CIRCLE'].describe()"
      ],
      "metadata": {
        "colab": {
          "base_uri": "https://localhost:8080/",
          "height": 355
        },
        "id": "dMr9XNvhpxL4",
        "outputId": "3200c1ca-18b0-4b48-91cc-952ea74dcca4"
      },
      "execution_count": 47,
      "outputs": [
        {
          "output_type": "execute_result",
          "data": {
            "text/plain": [
              "count    243.000000\n",
              "mean       3.650206\n",
              "std        3.449319\n",
              "min        3.000000\n",
              "25%        3.000000\n",
              "50%        3.000000\n",
              "75%        3.000000\n",
              "max       34.000000\n",
              "Name: DEF_30_CNT_SOCIAL_CIRCLE, dtype: float64"
            ],
            "text/html": [
              "<div>\n",
              "<style scoped>\n",
              "    .dataframe tbody tr th:only-of-type {\n",
              "        vertical-align: middle;\n",
              "    }\n",
              "\n",
              "    .dataframe tbody tr th {\n",
              "        vertical-align: top;\n",
              "    }\n",
              "\n",
              "    .dataframe thead th {\n",
              "        text-align: right;\n",
              "    }\n",
              "</style>\n",
              "<table border=\"1\" class=\"dataframe\">\n",
              "  <thead>\n",
              "    <tr style=\"text-align: right;\">\n",
              "      <th></th>\n",
              "      <th>DEF_30_CNT_SOCIAL_CIRCLE</th>\n",
              "    </tr>\n",
              "  </thead>\n",
              "  <tbody>\n",
              "    <tr>\n",
              "      <th>count</th>\n",
              "      <td>243.000000</td>\n",
              "    </tr>\n",
              "    <tr>\n",
              "      <th>mean</th>\n",
              "      <td>3.650206</td>\n",
              "    </tr>\n",
              "    <tr>\n",
              "      <th>std</th>\n",
              "      <td>3.449319</td>\n",
              "    </tr>\n",
              "    <tr>\n",
              "      <th>min</th>\n",
              "      <td>3.000000</td>\n",
              "    </tr>\n",
              "    <tr>\n",
              "      <th>25%</th>\n",
              "      <td>3.000000</td>\n",
              "    </tr>\n",
              "    <tr>\n",
              "      <th>50%</th>\n",
              "      <td>3.000000</td>\n",
              "    </tr>\n",
              "    <tr>\n",
              "      <th>75%</th>\n",
              "      <td>3.000000</td>\n",
              "    </tr>\n",
              "    <tr>\n",
              "      <th>max</th>\n",
              "      <td>34.000000</td>\n",
              "    </tr>\n",
              "  </tbody>\n",
              "</table>\n",
              "</div><br><label><b>dtype:</b> float64</label>"
            ]
          },
          "metadata": {},
          "execution_count": 47
        }
      ]
    },
    {
      "cell_type": "markdown",
      "source": [
        "# Conclusion\n",
        "\n",
        "As I saw I would chose the data transformation using log since it does not delete most of the data."
      ],
      "metadata": {
        "id": "eNu3LoGkqfRt"
      }
    },
    {
      "cell_type": "markdown",
      "source": [
        "**9b**: Is there an anomaly with the column LANDAREA_AVG? If so, how would you solve it?"
      ],
      "metadata": {
        "id": "ocFe5wDovUl2"
      }
    },
    {
      "cell_type": "code",
      "source": [
        "app_test_copy = app_test.copy()\n",
        "app_test_copy['LANDAREA_AVG'].value_counts()"
      ],
      "metadata": {
        "colab": {
          "base_uri": "https://localhost:8080/",
          "height": 510
        },
        "id": "bwb5ymHovUPF",
        "outputId": "0c354676-7e43-4ab4-c4a5-34d3e8654b03"
      },
      "execution_count": 119,
      "outputs": [
        {
          "output_type": "execute_result",
          "data": {
            "text/plain": [
              "LANDAREA_AVG\n",
              "0.0483    28272\n",
              "0.0000     2656\n",
              "0.0141       37\n",
              "0.0158       33\n",
              "0.0114       33\n",
              "          ...  \n",
              "0.2692        1\n",
              "0.2514        1\n",
              "0.1364        1\n",
              "0.1843        1\n",
              "0.2084        1\n",
              "Name: count, Length: 2540, dtype: int64"
            ],
            "text/html": [
              "<div>\n",
              "<style scoped>\n",
              "    .dataframe tbody tr th:only-of-type {\n",
              "        vertical-align: middle;\n",
              "    }\n",
              "\n",
              "    .dataframe tbody tr th {\n",
              "        vertical-align: top;\n",
              "    }\n",
              "\n",
              "    .dataframe thead th {\n",
              "        text-align: right;\n",
              "    }\n",
              "</style>\n",
              "<table border=\"1\" class=\"dataframe\">\n",
              "  <thead>\n",
              "    <tr style=\"text-align: right;\">\n",
              "      <th></th>\n",
              "      <th>count</th>\n",
              "    </tr>\n",
              "    <tr>\n",
              "      <th>LANDAREA_AVG</th>\n",
              "      <th></th>\n",
              "    </tr>\n",
              "  </thead>\n",
              "  <tbody>\n",
              "    <tr>\n",
              "      <th>0.0483</th>\n",
              "      <td>28272</td>\n",
              "    </tr>\n",
              "    <tr>\n",
              "      <th>0.0000</th>\n",
              "      <td>2656</td>\n",
              "    </tr>\n",
              "    <tr>\n",
              "      <th>0.0141</th>\n",
              "      <td>37</td>\n",
              "    </tr>\n",
              "    <tr>\n",
              "      <th>0.0158</th>\n",
              "      <td>33</td>\n",
              "    </tr>\n",
              "    <tr>\n",
              "      <th>0.0114</th>\n",
              "      <td>33</td>\n",
              "    </tr>\n",
              "    <tr>\n",
              "      <th>...</th>\n",
              "      <td>...</td>\n",
              "    </tr>\n",
              "    <tr>\n",
              "      <th>0.2692</th>\n",
              "      <td>1</td>\n",
              "    </tr>\n",
              "    <tr>\n",
              "      <th>0.2514</th>\n",
              "      <td>1</td>\n",
              "    </tr>\n",
              "    <tr>\n",
              "      <th>0.1364</th>\n",
              "      <td>1</td>\n",
              "    </tr>\n",
              "    <tr>\n",
              "      <th>0.1843</th>\n",
              "      <td>1</td>\n",
              "    </tr>\n",
              "    <tr>\n",
              "      <th>0.2084</th>\n",
              "      <td>1</td>\n",
              "    </tr>\n",
              "  </tbody>\n",
              "</table>\n",
              "<p>2540 rows × 1 columns</p>\n",
              "</div><br><label><b>dtype:</b> int64</label>"
            ]
          },
          "metadata": {},
          "execution_count": 119
        }
      ]
    },
    {
      "cell_type": "code",
      "source": [
        "# Histogram\n",
        "plt.figure(figsize=(10,6))\n",
        "sns.histplot(app_test_copy['LANDAREA_AVG'], bins=100)\n",
        "plt.title('Distribution of LANDAREA_AVG')\n",
        "plt.show()\n",
        "\n",
        "# Boxplot\n",
        "plt.figure(figsize=(10,6))\n",
        "sns.boxplot(app_test_copy['LANDAREA_AVG'], showmeans = True)\n",
        "plt.title('Boxplot of LANDAREA_AVG')\n",
        "plt.show()"
      ],
      "metadata": {
        "colab": {
          "base_uri": "https://localhost:8080/",
          "height": 1000
        },
        "id": "kXO0FuZ7wH2T",
        "outputId": "6ce3a57b-dbd8-4fca-b924-6eb946ba5368"
      },
      "execution_count": 120,
      "outputs": [
        {
          "output_type": "display_data",
          "data": {
            "text/plain": [
              "<Figure size 1000x600 with 1 Axes>"
            ],
            "image/png": "[encoded data removed]"
          },
          "metadata": {}
        },
        {
          "output_type": "stream",
          "name": "stderr",
          "text": [
            "/usr/local/lib/python3.10/dist-packages/seaborn/categorical.py:640: FutureWarning: SeriesGroupBy.grouper is deprecated and will be removed in a future version of pandas.\n",
            "  positions = grouped.grouper.result_index.to_numpy(dtype=float)\n"
          ]
        },
        {
          "output_type": "display_data",
          "data": {
            "text/plain": [
              "<Figure size 1000x600 with 1 Axes>"
            ],
            "image/png": "[encoded data removed]"
          },
          "metadata": {}
        }
      ]
    },
    {
      "cell_type": "markdown",
      "source": [
        "We can notice that 0.000 holds 2656 entries this could mean the values are missing and we can replace them with the median value"
      ],
      "metadata": {
        "id": "5kmRKqzh5Zt-"
      }
    },
    {
      "cell_type": "code",
      "source": [
        "app_test_copy['LANDAREA_AVG'] = app_test_copy['LANDAREA_AVG'].replace(0.000, app_test_copy['LANDAREA_AVG'].median())\n",
        "app_test_copy['LANDAREA_AVG'].value_counts()"
      ],
      "metadata": {
        "colab": {
          "base_uri": "https://localhost:8080/",
          "height": 510
        },
        "id": "VU4ErqMq5YME",
        "outputId": "96951595-61ab-4065-d94b-40fe1ffa07ae"
      },
      "execution_count": 121,
      "outputs": [
        {
          "output_type": "execute_result",
          "data": {
            "text/plain": [
              "LANDAREA_AVG\n",
              "0.0483    30928\n",
              "0.0141       37\n",
              "0.0158       33\n",
              "0.0114       33\n",
              "0.0316       32\n",
              "          ...  \n",
              "0.2692        1\n",
              "0.2514        1\n",
              "0.1364        1\n",
              "0.1843        1\n",
              "0.2084        1\n",
              "Name: count, Length: 2539, dtype: int64"
            ],
            "text/html": [
              "<div>\n",
              "<style scoped>\n",
              "    .dataframe tbody tr th:only-of-type {\n",
              "        vertical-align: middle;\n",
              "    }\n",
              "\n",
              "    .dataframe tbody tr th {\n",
              "        vertical-align: top;\n",
              "    }\n",
              "\n",
              "    .dataframe thead th {\n",
              "        text-align: right;\n",
              "    }\n",
              "</style>\n",
              "<table border=\"1\" class=\"dataframe\">\n",
              "  <thead>\n",
              "    <tr style=\"text-align: right;\">\n",
              "      <th></th>\n",
              "      <th>count</th>\n",
              "    </tr>\n",
              "    <tr>\n",
              "      <th>LANDAREA_AVG</th>\n",
              "      <th></th>\n",
              "    </tr>\n",
              "  </thead>\n",
              "  <tbody>\n",
              "    <tr>\n",
              "      <th>0.0483</th>\n",
              "      <td>30928</td>\n",
              "    </tr>\n",
              "    <tr>\n",
              "      <th>0.0141</th>\n",
              "      <td>37</td>\n",
              "    </tr>\n",
              "    <tr>\n",
              "      <th>0.0158</th>\n",
              "      <td>33</td>\n",
              "    </tr>\n",
              "    <tr>\n",
              "      <th>0.0114</th>\n",
              "      <td>33</td>\n",
              "    </tr>\n",
              "    <tr>\n",
              "      <th>0.0316</th>\n",
              "      <td>32</td>\n",
              "    </tr>\n",
              "    <tr>\n",
              "      <th>...</th>\n",
              "      <td>...</td>\n",
              "    </tr>\n",
              "    <tr>\n",
              "      <th>0.2692</th>\n",
              "      <td>1</td>\n",
              "    </tr>\n",
              "    <tr>\n",
              "      <th>0.2514</th>\n",
              "      <td>1</td>\n",
              "    </tr>\n",
              "    <tr>\n",
              "      <th>0.1364</th>\n",
              "      <td>1</td>\n",
              "    </tr>\n",
              "    <tr>\n",
              "      <th>0.1843</th>\n",
              "      <td>1</td>\n",
              "    </tr>\n",
              "    <tr>\n",
              "      <th>0.2084</th>\n",
              "      <td>1</td>\n",
              "    </tr>\n",
              "  </tbody>\n",
              "</table>\n",
              "<p>2539 rows × 1 columns</p>\n",
              "</div><br><label><b>dtype:</b> int64</label>"
            ]
          },
          "metadata": {},
          "execution_count": 121
        }
      ]
    },
    {
      "cell_type": "code",
      "source": [
        "# Histogram\n",
        "plt.figure(figsize=(10,6))\n",
        "sns.histplot(app_test_copy['LANDAREA_AVG'], bins=100)\n",
        "plt.title('Distribution of LANDAREA_AVG')\n",
        "plt.show()\n",
        "\n",
        "# Boxplot\n",
        "plt.figure(figsize=(10,6))\n",
        "sns.boxplot(app_test_copy['LANDAREA_AVG'], showmeans = True)\n",
        "plt.title('Boxplot of LANDAREA_AVG')\n",
        "plt.show()"
      ],
      "metadata": {
        "colab": {
          "base_uri": "https://localhost:8080/",
          "height": 1000
        },
        "id": "NCQWjuud58Ai",
        "outputId": "b919230c-b055-4406-894d-3295ab4a5902"
      },
      "execution_count": 129,
      "outputs": [
        {
          "output_type": "display_data",
          "data": {
            "text/plain": [
              "<Figure size 1000x600 with 1 Axes>"
            ],
            "image/png": "[encoded data removed]"
          },
          "metadata": {}
        },
        {
          "output_type": "stream",
          "name": "stderr",
          "text": [
            "/usr/local/lib/python3.10/dist-packages/seaborn/categorical.py:640: FutureWarning: SeriesGroupBy.grouper is deprecated and will be removed in a future version of pandas.\n",
            "  positions = grouped.grouper.result_index.to_numpy(dtype=float)\n"
          ]
        },
        {
          "output_type": "display_data",
          "data": {
            "text/plain": [
              "<Figure size 1000x600 with 1 Axes>"
            ],
            "image/png": "[encoded data removed]"
          },
          "metadata": {}
        }
      ]
    },
    {
      "cell_type": "markdown",
      "source": [
        "**9c**: Is there an anomaly with the column AMT_INCOME_TOTAL? If so, how would you solve it?"
      ],
      "metadata": {
        "id": "cIK_6hEa5wc_"
      }
    },
    {
      "cell_type": "code",
      "source": [
        "app_test_copy = app_test.copy()\n",
        "app_test_copy['AMT_INCOME_TOTAL'].value_counts()\n",
        "\n",
        "#app_test_copy['AMT_INCOME_TOTAL'].describe()"
      ],
      "metadata": {
        "colab": {
          "base_uri": "https://localhost:8080/",
          "height": 510
        },
        "id": "3HDebAeB-0ZZ",
        "outputId": "7dea691a-ceba-498e-e829-dfa9ca17c76e"
      },
      "execution_count": 151,
      "outputs": [
        {
          "output_type": "execute_result",
          "data": {
            "text/plain": [
              "AMT_INCOME_TOTAL\n",
              "135000.0    5562\n",
              "112500.0    4851\n",
              "157500.0    4435\n",
              "180000.0    4205\n",
              "225000.0    3764\n",
              "            ... \n",
              "114219.0       1\n",
              "84717.0        1\n",
              "91935.0        1\n",
              "146475.0       1\n",
              "161244.0       1\n",
              "Name: count, Length: 606, dtype: int64"
            ],
            "text/html": [
              "<div>\n",
              "<style scoped>\n",
              "    .dataframe tbody tr th:only-of-type {\n",
              "        vertical-align: middle;\n",
              "    }\n",
              "\n",
              "    .dataframe tbody tr th {\n",
              "        vertical-align: top;\n",
              "    }\n",
              "\n",
              "    .dataframe thead th {\n",
              "        text-align: right;\n",
              "    }\n",
              "</style>\n",
              "<table border=\"1\" class=\"dataframe\">\n",
              "  <thead>\n",
              "    <tr style=\"text-align: right;\">\n",
              "      <th></th>\n",
              "      <th>count</th>\n",
              "    </tr>\n",
              "    <tr>\n",
              "      <th>AMT_INCOME_TOTAL</th>\n",
              "      <th></th>\n",
              "    </tr>\n",
              "  </thead>\n",
              "  <tbody>\n",
              "    <tr>\n",
              "      <th>135000.0</th>\n",
              "      <td>5562</td>\n",
              "    </tr>\n",
              "    <tr>\n",
              "      <th>112500.0</th>\n",
              "      <td>4851</td>\n",
              "    </tr>\n",
              "    <tr>\n",
              "      <th>157500.0</th>\n",
              "      <td>4435</td>\n",
              "    </tr>\n",
              "    <tr>\n",
              "      <th>180000.0</th>\n",
              "      <td>4205</td>\n",
              "    </tr>\n",
              "    <tr>\n",
              "      <th>225000.0</th>\n",
              "      <td>3764</td>\n",
              "    </tr>\n",
              "    <tr>\n",
              "      <th>...</th>\n",
              "      <td>...</td>\n",
              "    </tr>\n",
              "    <tr>\n",
              "      <th>114219.0</th>\n",
              "      <td>1</td>\n",
              "    </tr>\n",
              "    <tr>\n",
              "      <th>84717.0</th>\n",
              "      <td>1</td>\n",
              "    </tr>\n",
              "    <tr>\n",
              "      <th>91935.0</th>\n",
              "      <td>1</td>\n",
              "    </tr>\n",
              "    <tr>\n",
              "      <th>146475.0</th>\n",
              "      <td>1</td>\n",
              "    </tr>\n",
              "    <tr>\n",
              "      <th>161244.0</th>\n",
              "      <td>1</td>\n",
              "    </tr>\n",
              "  </tbody>\n",
              "</table>\n",
              "<p>606 rows × 1 columns</p>\n",
              "</div><br><label><b>dtype:</b> int64</label>"
            ]
          },
          "metadata": {},
          "execution_count": 151
        }
      ]
    },
    {
      "cell_type": "code",
      "source": [
        "# Histogram\n",
        "plt.figure(figsize=(10,6))\n",
        "sns.histplot(app_test_copy['AMT_INCOME_TOTAL'], bins=100)\n",
        "plt.title('Distribution of AMT_INCOME_TOTAL')\n",
        "plt.show()\n",
        "\n",
        "# Boxplot\n",
        "plt.figure(figsize=(10,6))\n",
        "sns.boxplot(app_test_copy['AMT_INCOME_TOTAL'], showmeans = True)\n",
        "plt.title('Boxplot of AMT_INCOME_TOTAL')\n",
        "plt.show()"
      ],
      "metadata": {
        "colab": {
          "base_uri": "https://localhost:8080/",
          "height": 1000
        },
        "id": "cLwXEG6-_A3a",
        "outputId": "e05cf706-e7a5-4845-e8cb-90bb60b76cb4"
      },
      "execution_count": 152,
      "outputs": [
        {
          "output_type": "display_data",
          "data": {
            "text/plain": [
              "<Figure size 1000x600 with 1 Axes>"
            ],
            "image/png": "[encoded data removed]"
          },
          "metadata": {}
        },
        {
          "output_type": "stream",
          "name": "stderr",
          "text": [
            "/usr/local/lib/python3.10/dist-packages/seaborn/categorical.py:640: FutureWarning: SeriesGroupBy.grouper is deprecated and will be removed in a future version of pandas.\n",
            "  positions = grouped.grouper.result_index.to_numpy(dtype=float)\n"
          ]
        },
        {
          "output_type": "display_data",
          "data": {
            "text/plain": [
              "<Figure size 1000x600 with 1 Axes>"
            ],
            "image/png": "[encoded data removed]"
          },
          "metadata": {}
        }
      ]
    },
    {
      "cell_type": "code",
      "source": [
        "# Calculate IQR\n",
        "Q1 = app_test_copy['AMT_INCOME_TOTAL'].quantile(0.25)\n",
        "Q3 = app_test_copy['AMT_INCOME_TOTAL'].quantile(0.75)\n",
        "IQR = Q3 - Q1\n",
        "\n",
        "# Define bounds for outliers\n",
        "lower_bound = Q1 - 1.5 * IQR\n",
        "upper_bound = Q3 + 1.5 * IQR\n",
        "\n",
        "app_test_copy['AMT_INCOME_TOTAL_boxcox'], fitted_lambda = stats.boxcox(app_test_copy['AMT_INCOME_TOTAL'] + 1e-6)\n",
        "\n",
        "# Filter the anomalies\n",
        "z_scores = np.abs(stats.zscore(app_test_copy['AMT_INCOME_TOTAL']))\n",
        "\n",
        "# Set threshold for anomaly (e.g., Z > 3)\n",
        "threshold = 3\n",
        "anomalies = app_test_copy[z_scores > threshold]\n",
        "\n",
        "# Print the 'DEF_30_CNT_SOCIAL_CIRCLE' values for the anomalies\n",
        "print(anomalies['AMT_INCOME_TOTAL'])\n"
      ],
      "metadata": {
        "colab": {
          "base_uri": "https://localhost:8080/"
        },
        "id": "Eq9TiVwM_Fu-",
        "outputId": "3857b051-2adf-4232-8d7a-457014066896"
      },
      "execution_count": 181,
      "outputs": [
        {
          "output_type": "stream",
          "name": "stdout",
          "text": [
            "93        495000.0\n",
            "188       540000.0\n",
            "262       675000.0\n",
            "584       607500.0\n",
            "772      1350000.0\n",
            "           ...    \n",
            "48313     675000.0\n",
            "48395     486000.0\n",
            "48407     495000.0\n",
            "48425     517500.0\n",
            "48481     675000.0\n",
            "Name: AMT_INCOME_TOTAL, Length: 571, dtype: float64\n"
          ]
        }
      ]
    },
    {
      "cell_type": "code",
      "source": [
        "# Histogram\n",
        "plt.figure(figsize=(10,6))\n",
        "sns.histplot(anomalies['AMT_INCOME_TOTAL_boxcox'], bins=100)\n",
        "plt.title('Distribution of AMT_INCOME_TOTAL')\n",
        "plt.show()\n",
        "\n",
        "# Boxplot\n",
        "plt.figure(figsize=(10,6))\n",
        "sns.boxplot(anomalies['AMT_INCOME_TOTAL_boxcox'], showmeans = True)\n",
        "plt.title('Boxplot of AMT_INCOME_TOTAL')\n",
        "plt.show()"
      ],
      "metadata": {
        "colab": {
          "base_uri": "https://localhost:8080/",
          "height": 1000
        },
        "id": "XTM_k2iFACaN",
        "outputId": "b71ffcb9-4cf1-4528-d3b7-39a77f417105"
      },
      "execution_count": 182,
      "outputs": [
        {
          "output_type": "display_data",
          "data": {
            "text/plain": [
              "<Figure size 1000x600 with 1 Axes>"
            ],
            "image/png": "[encoded data removed]"
          },
          "metadata": {}
        },
        {
          "output_type": "stream",
          "name": "stderr",
          "text": [
            "/usr/local/lib/python3.10/dist-packages/seaborn/categorical.py:640: FutureWarning: SeriesGroupBy.grouper is deprecated and will be removed in a future version of pandas.\n",
            "  positions = grouped.grouper.result_index.to_numpy(dtype=float)\n"
          ]
        },
        {
          "output_type": "display_data",
          "data": {
            "text/plain": [
              "<Figure size 1000x600 with 1 Axes>"
            ],
            "image/png": "[encoded data removed]"
          },
          "metadata": {}
        }
      ]
    },
    {
      "cell_type": "code",
      "source": [
        "app_test_copy['AMT_INCOME_TOTAL'].value_counts()"
      ],
      "metadata": {
        "colab": {
          "base_uri": "https://localhost:8080/",
          "height": 510
        },
        "id": "JWKcVj3kBIwz",
        "outputId": "e598b014-50e4-4b87-a747-4b7ebadbc0ff"
      },
      "execution_count": 149,
      "outputs": [
        {
          "output_type": "execute_result",
          "data": {
            "text/plain": [
              "AMT_INCOME_TOTAL\n",
              "135000.0    5562\n",
              "157500.0    4920\n",
              "112500.0    4851\n",
              "180000.0    4205\n",
              "225000.0    3764\n",
              "            ... \n",
              "280800.0       1\n",
              "180234.0       1\n",
              "198292.5       1\n",
              "177300.0       1\n",
              "161244.0       1\n",
              "Name: count, Length: 560, dtype: int64"
            ],
            "text/html": [
              "<div>\n",
              "<style scoped>\n",
              "    .dataframe tbody tr th:only-of-type {\n",
              "        vertical-align: middle;\n",
              "    }\n",
              "\n",
              "    .dataframe tbody tr th {\n",
              "        vertical-align: top;\n",
              "    }\n",
              "\n",
              "    .dataframe thead th {\n",
              "        text-align: right;\n",
              "    }\n",
              "</style>\n",
              "<table border=\"1\" class=\"dataframe\">\n",
              "  <thead>\n",
              "    <tr style=\"text-align: right;\">\n",
              "      <th></th>\n",
              "      <th>count</th>\n",
              "    </tr>\n",
              "    <tr>\n",
              "      <th>AMT_INCOME_TOTAL</th>\n",
              "      <th></th>\n",
              "    </tr>\n",
              "  </thead>\n",
              "  <tbody>\n",
              "    <tr>\n",
              "      <th>135000.0</th>\n",
              "      <td>5562</td>\n",
              "    </tr>\n",
              "    <tr>\n",
              "      <th>157500.0</th>\n",
              "      <td>4920</td>\n",
              "    </tr>\n",
              "    <tr>\n",
              "      <th>112500.0</th>\n",
              "      <td>4851</td>\n",
              "    </tr>\n",
              "    <tr>\n",
              "      <th>180000.0</th>\n",
              "      <td>4205</td>\n",
              "    </tr>\n",
              "    <tr>\n",
              "      <th>225000.0</th>\n",
              "      <td>3764</td>\n",
              "    </tr>\n",
              "    <tr>\n",
              "      <th>...</th>\n",
              "      <td>...</td>\n",
              "    </tr>\n",
              "    <tr>\n",
              "      <th>280800.0</th>\n",
              "      <td>1</td>\n",
              "    </tr>\n",
              "    <tr>\n",
              "      <th>180234.0</th>\n",
              "      <td>1</td>\n",
              "    </tr>\n",
              "    <tr>\n",
              "      <th>198292.5</th>\n",
              "      <td>1</td>\n",
              "    </tr>\n",
              "    <tr>\n",
              "      <th>177300.0</th>\n",
              "      <td>1</td>\n",
              "    </tr>\n",
              "    <tr>\n",
              "      <th>161244.0</th>\n",
              "      <td>1</td>\n",
              "    </tr>\n",
              "  </tbody>\n",
              "</table>\n",
              "<p>560 rows × 1 columns</p>\n",
              "</div><br><label><b>dtype:</b> int64</label>"
            ]
          },
          "metadata": {},
          "execution_count": 149
        }
      ]
    },
    {
      "cell_type": "markdown",
      "metadata": {
        "id": "DgQ2i5B25lRC"
      },
      "source": [
        "<h2>Correlations (9 pts)</h2>\n",
        "\n",
        "\n",
        "11: **In app_test**, remove the collinear features of the dataset. How did you choose the threshold?\n",
        "\n",
        "12: What features from bureau.csv could you use to improve the training set? Use the random forest model from the notebook of the Lecture to check if it actually improves the final model performance.\n",
        "\n",
        "*You will be evaluated as follow*\n",
        "* 11: Code 3pts. Threshold explanation 1pt.\n",
        "* 12: Description of the approach 1pt. Code implementation of the approach 2pts. Improved performance 2pts."
      ]
    },
    {
      "cell_type": "code",
      "execution_count": 26,
      "metadata": {
        "id": "uU1j3LW2S-ir"
      },
      "outputs": [],
      "source": [
        "## Your code here"
      ]
    },
    {
      "cell_type": "markdown",
      "metadata": {
        "id": "7_fQJhfcyQWn"
      },
      "source": [
        "##  Class imbalance and model performances (6 points)\n",
        "\n",
        "\n",
        "**13**: Evaluate the other technique (SMOTE) to handeling imbalance data left in *6.b*. Does it makes a difference on the final model performance? Can you use the performance on the test set to choose which techniques to use? If not, what would you need to do so?\n",
        "\n",
        "*You will be evaluated as follow*\n",
        "* 13: Code 3pts. Explanation 3pts.\n"
      ]
    },
    {
      "cell_type": "code",
      "execution_count": 27,
      "metadata": {
        "id": "jDR7b8VRyUkS"
      },
      "outputs": [],
      "source": [
        "## Your code here"
      ]
    },
    {
      "cell_type": "markdown",
      "metadata": {
        "id": "-kxXg4CA3nPO"
      },
      "source": [
        "**13**: Answer the question here (double click to edit a text cell)\n",
        "\n"
      ]
    }
  ],
  "metadata": {
    "colab": {
      "provenance": [],
      "gpuType": "T4"
    },
    "kernelspec": {
      "display_name": "Python 3",
      "name": "python3"
    },
    "accelerator": "GPU"
  },
  "nbformat": 4,
  "nbformat_minor": 0
}